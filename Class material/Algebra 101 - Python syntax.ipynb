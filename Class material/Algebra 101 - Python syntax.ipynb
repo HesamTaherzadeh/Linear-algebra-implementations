{
 "cells": [
  {
   "cell_type": "markdown",
   "metadata": {},
   "source": [
    "![knlogo](https://wp.kntu.ac.ir/aliakbarian/ode/images/logo.png)"
   ]
  },
  {
   "cell_type": "markdown",
   "metadata": {},
   "source": [
    "<h1 style=\"color:Gray\"> A Crash course on Python programming scientific-algebric inclined</h1>\n",
    "<h2 style=\"color:Gray font'Serif'\"> Linear Algebra </h2>\n",
    "<h2 style=\"color:Gray\"> Dr. Mohammadreza Malek </h2>\n",
    "<h3 style=\"color:Gray\"> Amirhesam Taherzadegani </h3>\n",
    "<h4 style=\"color:Gray\"> Geomatics engineering and geodesy faculty , KNTU </h4>"
   ]
  },
  {
   "cell_type": "markdown",
   "metadata": {},
   "source": [
    "# Variable Declaration "
   ]
  },
  {
   "cell_type": "code",
   "execution_count": 1,
   "metadata": {},
   "outputs": [],
   "source": [
    "# Rules for declaration \n",
    "\n",
    "# keywords that are reserved ==> lambda , list , tuple \n",
    "# numbers 1a, @\n",
    "\n",
    "# PEP-8(Python enhancement proposal)\n",
    "\n",
    "# assignment operator\n",
    "var_1 = 3\n",
    "# del\n",
    "del var_1\n",
    "# multiple assignment\n",
    "var_1, var_2, c = 1, 2, 3"
   ]
  },
  {
   "cell_type": "code",
   "execution_count": 2,
   "metadata": {},
   "outputs": [],
   "source": [
    "# indentation IndentationError: expected an indented block\n",
    "\n",
    "for i in range(10):\n",
    "    print(i)"
   ]
  },
  {
   "cell_type": "markdown",
   "metadata": {},
   "source": [
    "# Data Types (Primitive Data structures)"
   ]
  },
  {
   "cell_type": "markdown",
   "metadata": {},
   "source": [
    "<img src=\"https://media.geeksforgeeks.org/wp-content/uploads/20191023173512/Python-data-structure.jpg\" width=\"500\">"
   ]
  },
  {
   "cell_type": "markdown",
   "metadata": {},
   "source": [
    "#### credit: Geeks for geeks"
   ]
  },
  {
   "cell_type": "code",
   "execution_count": 3,
   "metadata": {},
   "outputs": [],
   "source": [
    "# class\n",
    "num = 1\n",
    "num_2 = 1.0\n",
    "num_3 = True\n",
    "num_4 = 1 + 3j"
   ]
  },
  {
   "cell_type": "code",
   "execution_count": 4,
   "metadata": {},
   "outputs": [
    {
     "data": {
      "text/plain": [
       "complex"
      ]
     },
     "execution_count": 4,
     "metadata": {},
     "output_type": "execute_result"
    }
   ],
   "source": [
    "# you can check the variable type with type()\n",
    "type(num_4)"
   ]
  },
  {
   "cell_type": "code",
   "execution_count": 5,
   "metadata": {},
   "outputs": [],
   "source": [
    "# casting\n",
    "# float, int, complex, bool\n",
    "num_2 = 1.9\n",
    "num_2 = int(num_2)"
   ]
  },
  {
   "cell_type": "code",
   "execution_count": 6,
   "metadata": {},
   "outputs": [
    {
     "data": {
      "text/plain": [
       "int"
      ]
     },
     "execution_count": 6,
     "metadata": {},
     "output_type": "execute_result"
    }
   ],
   "source": [
    "type(num_2)"
   ]
  },
  {
   "cell_type": "markdown",
   "metadata": {},
   "source": [
    "# Operators"
   ]
  },
  {
   "cell_type": "markdown",
   "metadata": {},
   "source": [
    "<img src=\"https://slideplayer.com/slide/6506861/22/images/8/Python+Operators+Precedence.jpg\" width=\"500\">"
   ]
  },
  {
   "cell_type": "code",
   "execution_count": 7,
   "metadata": {},
   "outputs": [
    {
     "data": {
      "text/plain": [
       "True"
      ]
     },
     "execution_count": 7,
     "metadata": {},
     "output_type": "execute_result"
    }
   ],
   "source": [
    "# Order, Examples , Binary\n",
    "# a**b is a power b, / is division , // floor division , % modulo\n",
    "# order is like the box above\n",
    "# ==, !=, >, <, >=, <= logical ==> output : boolean \n",
    "# assignment (=)\n",
    "3 != 2"
   ]
  },
  {
   "cell_type": "markdown",
   "metadata": {},
   "source": [
    "# Data Structure"
   ]
  },
  {
   "cell_type": "markdown",
   "metadata": {},
   "source": [
    "\n",
    "<img src=\"https://www.tutorialandexample.com/wp-content/uploads/2020/12/image-17.png\" width=\"500\">"
   ]
  },
  {
   "cell_type": "markdown",
   "metadata": {},
   "source": [
    "> ## list"
   ]
  },
  {
   "cell_type": "code",
   "execution_count": 8,
   "metadata": {},
   "outputs": [],
   "source": [
    "# Definition \n",
    "# list in python is an dynamic array definition is with []\n",
    "list1 = [1, 2, 3]"
   ]
  },
  {
   "cell_type": "code",
   "execution_count": 9,
   "metadata": {},
   "outputs": [
    {
     "name": "stdout",
     "output_type": "stream",
     "text": [
      "second element 1\n",
      "third element 3\n"
     ]
    }
   ],
   "source": [
    "# indexing : index starts with 0\n",
    "print(\"second element\", list1[0])\n",
    "print(\"third element\", list1[2])"
   ]
  },
  {
   "cell_type": "code",
   "execution_count": 10,
   "metadata": {},
   "outputs": [
    {
     "name": "stdout",
     "output_type": "stream",
     "text": [
      "index 0 to 2 [1, 2, 3]\n",
      "index 2 to 5 [3, 4, 5]\n"
     ]
    }
   ],
   "source": [
    "# slicing ==> in python intervals except in numpy.linspace are end-exclusive [)\n",
    "list2 = [1, 2, 3, 4, 5, 6, 7, 8]\n",
    "print(\"index 0 to 2\", list2[0:3])\n",
    "print(\"index 2 to 5\", list2[2:5])"
   ]
  },
  {
   "cell_type": "code",
   "execution_count": 11,
   "metadata": {},
   "outputs": [],
   "source": [
    "# slicing ==> [start: end(index)(element + 1): step]\n",
    "# step is intialized as 1\n",
    "list2 = list(range(10))"
   ]
  },
  {
   "cell_type": "code",
   "execution_count": 12,
   "metadata": {},
   "outputs": [
    {
     "name": "stdout",
     "output_type": "stream",
     "text": [
      "[0, 1, 2, 3, 4, 5, 6, 7, 8, 9]\n",
      "even [0, 2, 4, 6, 8]\n",
      "odd [1, 3, 5, 7, 9]\n"
     ]
    }
   ],
   "source": [
    "print(list2)\n",
    "print(\"even\", list2[::2])\n",
    "print(\"odd\", list2[1::2])\n",
    "# if you want to start from the beginning, simply exclude the start or end at the last exclude the end"
   ]
  },
  {
   "cell_type": "code",
   "execution_count": 13,
   "metadata": {},
   "outputs": [
    {
     "name": "stdout",
     "output_type": "stream",
     "text": [
      "index -1 = 9\n",
      "index -3 = 7\n"
     ]
    }
   ],
   "source": [
    "# negative indexing \n",
    "print(\"index -1 =\", list2[-1])\n",
    "print(\"index -3 =\", list2[-3])"
   ]
  },
  {
   "cell_type": "code",
   "execution_count": 14,
   "metadata": {},
   "outputs": [
    {
     "data": {
      "text/plain": [
       "[1, 3, 4, 5, 6, 7]"
      ]
     },
     "execution_count": 14,
     "metadata": {},
     "output_type": "execute_result"
    }
   ],
   "source": [
    "# methods ==> objects have methods (functions defined in classes) \n",
    "# check out all methods in w3schools with button down below \n",
    "list4 = [1, 3, 4, 5, 6]\n",
    "list4.append(7)\n",
    "list4"
   ]
  },
  {
   "cell_type": "code",
   "execution_count": 15,
   "metadata": {},
   "outputs": [
    {
     "data": {
      "text/plain": [
       "[8, 9, 10, 6, 1, 3, 4, 5, 6]"
      ]
     },
     "execution_count": 15,
     "metadata": {},
     "output_type": "execute_result"
    }
   ],
   "source": [
    "list5 = [1, 3, 4, 5, 6]\n",
    "list6 = [8, 9, 10, 6]\n",
    "list6.extend(list5) #adds an iterable in a list\n",
    "list6"
   ]
  },
  {
   "cell_type": "code",
   "execution_count": 16,
   "metadata": {},
   "outputs": [],
   "source": [
    "# read the rest in link below "
   ]
  },
  {
   "cell_type": "code",
   "execution_count": 17,
   "metadata": {},
   "outputs": [
    {
     "data": {
      "text/plain": [
       "[1, 4, 2, 3]"
      ]
     },
     "execution_count": 17,
     "metadata": {},
     "output_type": "execute_result"
    }
   ],
   "source": [
    "list5 = [1, 2, 3]\n",
    "list5.insert(1, 4)\n",
    "# .insert(pos, elmnt) \n",
    "list5"
   ]
  },
  {
   "cell_type": "code",
   "execution_count": 18,
   "metadata": {},
   "outputs": [],
   "source": [
    "# in python item assignments doesnt assign values it assigns id to be efficent so with simple assignment\n",
    "# changes will be applied to both sides\n",
    "a = [1, 2, 3]\n",
    "b = a\n",
    "b.insert(2, 6)"
   ]
  },
  {
   "cell_type": "code",
   "execution_count": 19,
   "metadata": {},
   "outputs": [
    {
     "name": "stdout",
     "output_type": "stream",
     "text": [
      "True\n"
     ]
    },
    {
     "data": {
      "text/plain": [
       "([1, 2, 6, 3], [1, 2, 6, 3])"
      ]
     },
     "execution_count": 19,
     "metadata": {},
     "output_type": "execute_result"
    }
   ],
   "source": [
    "# id is the same\n",
    "print(id(a) == id(b))\n",
    "a,b"
   ]
  },
  {
   "cell_type": "code",
   "execution_count": 20,
   "metadata": {},
   "outputs": [],
   "source": [
    "a1 = [1, 2, 3]\n",
    "b1 = a1.copy()\n",
    "b1.insert(2, 6)"
   ]
  },
  {
   "cell_type": "code",
   "execution_count": 21,
   "metadata": {},
   "outputs": [
    {
     "name": "stdout",
     "output_type": "stream",
     "text": [
      "False\n"
     ]
    },
    {
     "data": {
      "text/plain": [
       "([1, 2, 3], [1, 2, 6, 3])"
      ]
     },
     "execution_count": 21,
     "metadata": {},
     "output_type": "execute_result"
    }
   ],
   "source": [
    "print(id(a1) == id(b1))\n",
    "a1,b1"
   ]
  },
  {
   "cell_type": "markdown",
   "metadata": {},
   "source": [
    "<a href=\"https://www.w3schools.com/python/python_lists_methods.asp\" style=\" background-color: black;\n",
    "  color: grey;\n",
    "  border: 2px dashed grey;\n",
    "  padding: 10px 20px;\n",
    "  text-align: center;\n",
    "  text-decoration: none;\n",
    "  display: inline-block;\">List methods(w3schools)</a>"
   ]
  },
  {
   "cell_type": "markdown",
   "metadata": {},
   "source": [
    "> ## Tuple"
   ]
  },
  {
   "cell_type": "code",
   "execution_count": 22,
   "metadata": {},
   "outputs": [],
   "source": [
    "# Definition ==> () , static arrays \n",
    "tuple1 = 1, 3, 5"
   ]
  },
  {
   "cell_type": "code",
   "execution_count": 23,
   "metadata": {},
   "outputs": [],
   "source": [
    "#tuple1[1] = 6 ERROR 'tuple' object does not support item assignment"
   ]
  },
  {
   "cell_type": "code",
   "execution_count": 24,
   "metadata": {},
   "outputs": [
    {
     "data": {
      "text/plain": [
       "5"
      ]
     },
     "execution_count": 24,
     "metadata": {},
     "output_type": "execute_result"
    }
   ],
   "source": [
    "tuple1[2] # indexing"
   ]
  },
  {
   "cell_type": "code",
   "execution_count": 25,
   "metadata": {},
   "outputs": [
    {
     "data": {
      "text/plain": [
       "[3, 4, 5, 6]"
      ]
     },
     "execution_count": 25,
     "metadata": {},
     "output_type": "execute_result"
    }
   ],
   "source": [
    "tuple2 = [1, 2, 3, 4, 5,  6, 7, 8, 9] #in python intervals except in numpy.linspace are end-exclusive [)\n",
    "tuple2[2: 6] # slicing same as lists"
   ]
  },
  {
   "cell_type": "code",
   "execution_count": 26,
   "metadata": {},
   "outputs": [
    {
     "data": {
      "text/plain": [
       "5"
      ]
     },
     "execution_count": 26,
     "metadata": {},
     "output_type": "execute_result"
    }
   ],
   "source": [
    "tuple2.index(6)\n",
    "# returns index"
   ]
  },
  {
   "cell_type": "code",
   "execution_count": 27,
   "metadata": {},
   "outputs": [],
   "source": [
    "list3 = [1, 2, 2, 3, 4, 4]\n",
    "tuple3 = 1, 2, 2, 2, 3, 4, 4\n",
    "# count in lists and tuples are the same"
   ]
  },
  {
   "cell_type": "code",
   "execution_count": 28,
   "metadata": {},
   "outputs": [
    {
     "data": {
      "text/plain": [
       "3"
      ]
     },
     "execution_count": 28,
     "metadata": {},
     "output_type": "execute_result"
    }
   ],
   "source": [
    "tuple3.count(2)"
   ]
  },
  {
   "cell_type": "code",
   "execution_count": 29,
   "metadata": {},
   "outputs": [
    {
     "data": {
      "text/plain": [
       "5"
      ]
     },
     "execution_count": 29,
     "metadata": {},
     "output_type": "execute_result"
    }
   ],
   "source": [
    "tuple3.index(4)"
   ]
  },
  {
   "cell_type": "markdown",
   "metadata": {},
   "source": [
    "<a href=\"https://www.w3schools.com/python/python_tuples_methods.asp\" \n",
    "style=\" background-color: black;\n",
    "  color: grey;\n",
    "  border: 2px dashed grey;\n",
    "  padding: 10px 20px;\n",
    "  text-align: center;\n",
    "  text-decoration: none;\n",
    "  display: inline-block;\">Tuple methods(w3schools)</a>"
   ]
  },
  {
   "cell_type": "markdown",
   "metadata": {},
   "source": [
    "> ## Set"
   ]
  },
  {
   "cell_type": "code",
   "execution_count": 30,
   "metadata": {},
   "outputs": [],
   "source": [
    "# Definition {}, each element should be unique \n",
    "# only value --> set , value and key --> dictionary\n",
    "set1 = {1, 1, 2, 3, 4, 4, 5}"
   ]
  },
  {
   "cell_type": "code",
   "execution_count": 31,
   "metadata": {},
   "outputs": [
    {
     "data": {
      "text/plain": [
       "{1, 2, 3, 4, 5}"
      ]
     },
     "execution_count": 31,
     "metadata": {},
     "output_type": "execute_result"
    }
   ],
   "source": [
    "set1"
   ]
  },
  {
   "cell_type": "code",
   "execution_count": 32,
   "metadata": {},
   "outputs": [],
   "source": [
    "#set1[2] ERROR 'set' object does not support indexing\n"
   ]
  },
  {
   "cell_type": "code",
   "execution_count": 33,
   "metadata": {},
   "outputs": [],
   "source": [
    "#set1[2] = 2 ERROR 'set' object does not support item assignment"
   ]
  },
  {
   "cell_type": "code",
   "execution_count": 34,
   "metadata": {},
   "outputs": [
    {
     "data": {
      "text/plain": [
       "5"
      ]
     },
     "execution_count": 34,
     "metadata": {},
     "output_type": "execute_result"
    }
   ],
   "source": [
    "# set have no order and .pop() pops and return the leftmost value meanwhile lists (ordered) pop and return the last element\n",
    "list6 = [1, 2, 3, 4, 5]\n",
    "list6.pop()"
   ]
  },
  {
   "cell_type": "code",
   "execution_count": 35,
   "metadata": {},
   "outputs": [],
   "source": [
    "set6 = set(list6)"
   ]
  },
  {
   "cell_type": "code",
   "execution_count": 36,
   "metadata": {},
   "outputs": [
    {
     "data": {
      "text/plain": [
       "{1, 2, 3, 4}"
      ]
     },
     "execution_count": 36,
     "metadata": {},
     "output_type": "execute_result"
    }
   ],
   "source": [
    "set6"
   ]
  },
  {
   "cell_type": "code",
   "execution_count": 37,
   "metadata": {},
   "outputs": [
    {
     "data": {
      "text/plain": [
       "1"
      ]
     },
     "execution_count": 37,
     "metadata": {},
     "output_type": "execute_result"
    }
   ],
   "source": [
    "set6.pop()"
   ]
  },
  {
   "cell_type": "code",
   "execution_count": 38,
   "metadata": {},
   "outputs": [],
   "source": [
    "# an important set usage is its uniquness attribute, you can remove the duplicates"
   ]
  },
  {
   "cell_type": "code",
   "execution_count": 39,
   "metadata": {},
   "outputs": [
    {
     "data": {
      "text/plain": [
       "[1, 2, 3, 4, 5]"
      ]
     },
     "execution_count": 39,
     "metadata": {},
     "output_type": "execute_result"
    }
   ],
   "source": [
    "list7 = [1, 1, 2, 3, 4, 4, 5]\n",
    "list(set(list7))"
   ]
  },
  {
   "cell_type": "code",
   "execution_count": 40,
   "metadata": {},
   "outputs": [],
   "source": [
    "# see the other methods in below link"
   ]
  },
  {
   "cell_type": "markdown",
   "metadata": {},
   "source": [
    "<a href=\"https://www.w3schools.com/python/python_sets_methods.asp\" \n",
    "style=\" background-color: black;\n",
    "  color: grey;\n",
    "  border: 2px dashed grey;\n",
    "  padding: 10px 20px;\n",
    "  text-align: center;\n",
    "  text-decoration: none;\n",
    "  display: inline-block;\">Set methods(w3schools)</a>"
   ]
  },
  {
   "cell_type": "markdown",
   "metadata": {},
   "source": [
    "> ## Dictionaries \"Self-Study\""
   ]
  },
  {
   "cell_type": "markdown",
   "metadata": {},
   "source": [
    "<a href=\"https://www.w3schools.com/python/python_dictionaries.asp\" \n",
    "style=\" background-color: black;\n",
    "  color: grey;\n",
    "  border: 2px dashed grey;\n",
    "  padding: 10px 20px;\n",
    "  text-align: center;\n",
    "  text-decoration: none;\n",
    "  display: inline-block;\">Dictionaries Refrence(w3schools)</a>\n"
   ]
  },
  {
   "cell_type": "markdown",
   "metadata": {},
   "source": [
    "> ## Nesting"
   ]
  },
  {
   "cell_type": "code",
   "execution_count": 41,
   "metadata": {},
   "outputs": [
    {
     "data": {
      "text/plain": [
       "[[1, 2, 3], [2, 3, 4]]"
      ]
     },
     "execution_count": 41,
     "metadata": {},
     "output_type": "execute_result"
    }
   ],
   "source": [
    "#  Nested lists , Nested tuple, Nested Dic\n",
    "# putting certain kinds of data structure within another \n",
    "list0 = [[1, 2, 3], [2, 3, 4]]\n",
    "list0"
   ]
  },
  {
   "cell_type": "code",
   "execution_count": 42,
   "metadata": {},
   "outputs": [],
   "source": [
    "# be aware of the quantity of the list \n",
    "# for each list the elements are separated by ',' but this can be tricky and one should always look out for number of []'s \n",
    "# in lists and etc\n",
    "list01 = [(2, 'char', [{'key':[2]}])]"
   ]
  },
  {
   "cell_type": "code",
   "execution_count": 43,
   "metadata": {},
   "outputs": [
    {
     "data": {
      "text/plain": [
       "[(2, 'char', [{'key': [2]}])]"
      ]
     },
     "execution_count": 43,
     "metadata": {},
     "output_type": "execute_result"
    }
   ],
   "source": [
    "list01"
   ]
  },
  {
   "cell_type": "code",
   "execution_count": 44,
   "metadata": {},
   "outputs": [],
   "source": [
    "tuple02 = ([1, 2, 3 ,[4, 5, 6]], 'char', 2, 3)"
   ]
  },
  {
   "cell_type": "code",
   "execution_count": 45,
   "metadata": {},
   "outputs": [
    {
     "data": {
      "text/plain": [
       "5"
      ]
     },
     "execution_count": 45,
     "metadata": {},
     "output_type": "execute_result"
    }
   ],
   "source": [
    "# in slicing and indexing as we go from right to left each one bracket corresponds to inner elements\n",
    "# here it means the element of index 1 within the element of index 3 within the element of index 0\n",
    "# in other words the second element of fourth element of the first element in the data structure \n",
    "# slicing can be applied just the same \n",
    "tuple02[0][3][1]"
   ]
  },
  {
   "cell_type": "markdown",
   "metadata": {},
   "source": [
    "> ## Strings "
   ]
  },
  {
   "cell_type": "code",
   "execution_count": 46,
   "metadata": {},
   "outputs": [],
   "source": [
    "# double - single - triple Quotations\n",
    "str0 = 'amirhesam'"
   ]
  },
  {
   "cell_type": "code",
   "execution_count": 47,
   "metadata": {},
   "outputs": [
    {
     "data": {
      "text/plain": [
       "'amirhesam'"
      ]
     },
     "execution_count": 47,
     "metadata": {},
     "output_type": "execute_result"
    }
   ],
   "source": [
    "# conventionally its better to use with single char but there is no limitation\n",
    "str0"
   ]
  },
  {
   "cell_type": "code",
   "execution_count": 48,
   "metadata": {},
   "outputs": [],
   "source": [
    "# single line string assignment\n",
    "str1 = \"hesam kntu\""
   ]
  },
  {
   "cell_type": "code",
   "execution_count": 49,
   "metadata": {},
   "outputs": [],
   "source": [
    "# multiple line string assignment\n",
    "str2 = \"\"\"hesam \n",
    "kntu \n",
    "geomatics\"\"\""
   ]
  },
  {
   "cell_type": "markdown",
   "metadata": {},
   "source": [
    "# Input & Output"
   ]
  },
  {
   "cell_type": "markdown",
   "metadata": {},
   "source": [
    ">## Print"
   ]
  },
  {
   "cell_type": "code",
   "execution_count": 50,
   "metadata": {},
   "outputs": [
    {
     "name": "stdout",
     "output_type": "stream",
     "text": [
      "amirhesam\n"
     ]
    }
   ],
   "source": [
    "# print\n",
    "# end (the default is \"\\n\") will print the entered parameter immediately after the end of main value printing \n",
    "# f-string vs format \n",
    "# multiple lines printing ==> you can use \"\"\" \"\"\" (triple quotation to print multiple line )\n",
    "# * \\n ==> new line \\t ==> tab\n",
    "\n",
    "print(str0)"
   ]
  },
  {
   "cell_type": "code",
   "execution_count": 51,
   "metadata": {},
   "outputs": [
    {
     "name": "stdout",
     "output_type": "stream",
     "text": [
      "the var lambda is 6\n"
     ]
    }
   ],
   "source": [
    "# f-string is a format of string to alternate some variable's name inside {} with its value f\"{var}\"\n",
    "lam = 6\n",
    "print(f\"the var lambda is {lam}\")"
   ]
  },
  {
   "cell_type": "code",
   "execution_count": 52,
   "metadata": {},
   "outputs": [
    {
     "name": "stdout",
     "output_type": "stream",
     "text": [
      "the var lambda is 6\tthe tehta is 25\n"
     ]
    }
   ],
   "source": [
    "teh = 25\n",
    "print(f\"the var lambda is {lam}\", end=\"\\t\")\n",
    "print(f\"the tehta is {teh}\")"
   ]
  },
  {
   "cell_type": "code",
   "execution_count": 53,
   "metadata": {},
   "outputs": [],
   "source": [
    "list7 = [1, 1, 2, 3, 4, 4, 5]"
   ]
  },
  {
   "cell_type": "code",
   "execution_count": 54,
   "metadata": {},
   "outputs": [
    {
     "name": "stdout",
     "output_type": "stream",
     "text": [
      "1 1 2 3 4 4 5\n"
     ]
    }
   ],
   "source": [
    "# we will reach to this operator later \n",
    "print(*list7)"
   ]
  },
  {
   "cell_type": "markdown",
   "metadata": {},
   "source": [
    ">## Input"
   ]
  },
  {
   "cell_type": "code",
   "execution_count": 55,
   "metadata": {},
   "outputs": [
    {
     "name": "stdout",
     "output_type": "stream",
     "text": [
      "enter a float \t 1.5\n"
     ]
    }
   ],
   "source": [
    "# int, float, eval\n",
    "# the input function in python only returns the inputted value as an string\n",
    "# the eval function will split the quotations and leave whatever is between them\n",
    "input0 = eval(input(\"enter a float \\t \"))"
   ]
  },
  {
   "cell_type": "code",
   "execution_count": 56,
   "metadata": {},
   "outputs": [
    {
     "data": {
      "text/plain": [
       "float"
      ]
     },
     "execution_count": 56,
     "metadata": {},
     "output_type": "execute_result"
    }
   ],
   "source": [
    "type(input0)"
   ]
  },
  {
   "cell_type": "markdown",
   "metadata": {},
   "source": [
    "# Range"
   ]
  },
  {
   "cell_type": "code",
   "execution_count": 57,
   "metadata": {},
   "outputs": [
    {
     "data": {
      "text/plain": [
       "[10, 9, 8, 7, 6, 5, 4, 3, 2, 1]"
      ]
     },
     "execution_count": 57,
     "metadata": {},
     "output_type": "execute_result"
    }
   ],
   "source": [
    "# indexing in python, negative indexing\n",
    "# step\n",
    "# range(start, end , step) [)\n",
    "list(range(10, 0, -1))"
   ]
  },
  {
   "cell_type": "markdown",
   "metadata": {},
   "source": [
    "# Flow-control"
   ]
  },
  {
   "cell_type": "markdown",
   "metadata": {},
   "source": [
    "<img src=\"https://upload.wikimedia.org/wikipedia/commons/4/4c/Branching_in_DRAKON.png\">"
   ]
  },
  {
   "cell_type": "code",
   "execution_count": 58,
   "metadata": {},
   "outputs": [
    {
     "name": "stdout",
     "output_type": "stream",
     "text": [
      "its even\n"
     ]
    }
   ],
   "source": [
    "# if - else - elif \n",
    "a = 8\n",
    "\n",
    "if a % 2 == 0:\n",
    "    print('its even')\n",
    "else:\n",
    "    print('its odd')"
   ]
  },
  {
   "cell_type": "code",
   "execution_count": 59,
   "metadata": {},
   "outputs": [
    {
     "data": {
      "text/plain": [
       "2"
      ]
     },
     "execution_count": 59,
     "metadata": {},
     "output_type": "execute_result"
    }
   ],
   "source": [
    "a % 3"
   ]
  },
  {
   "cell_type": "markdown",
   "metadata": {},
   "source": [
    "<h1 style=\"color:#6c72a8\"> \n",
    "The order of conditions to be checked is \n",
    "first : the if statement \n",
    "</h1>\n",
    "<h1 style=\"color:#6c72a8\">\n",
    "in case that if statement returned False \n",
    "second: elif statements \n",
    "</h1>\n",
    "<h1 style=\"color:#6c72a8\"> \n",
    "\n",
    "in case these were not also correct \n",
    "third :\n",
    "it will execute commands in else block\n",
    "</h1>\n",
    "<h1 style=\"color:#6c72a8\"> \n",
    "else and elif commands are optional\n",
    "</h1>"
   ]
  },
  {
   "cell_type": "code",
   "execution_count": 60,
   "metadata": {},
   "outputs": [
    {
     "name": "stdout",
     "output_type": "stream",
     "text": [
      "the modulo is two\n"
     ]
    }
   ],
   "source": [
    "if a % 3 ==0:  # must have a conditional statement infront of if\n",
    "    print(\"the modulo is zero\")\n",
    "elif a % 3 ==1: # must have a conditional statement infront of elif\n",
    "    print(\"the modulo is one\")\n",
    "else:           # must not have a conditional statement infront of else\n",
    "    print(\"the modulo is two\")"
   ]
  },
  {
   "cell_type": "markdown",
   "metadata": {},
   "source": [
    "># Loop"
   ]
  },
  {
   "cell_type": "markdown",
   "metadata": {},
   "source": [
    "## For loop"
   ]
  },
  {
   "cell_type": "code",
   "execution_count": 61,
   "metadata": {},
   "outputs": [
    {
     "name": "stdout",
     "output_type": "stream",
     "text": [
      "1\n",
      "2\n",
      "3\n",
      "4\n"
     ]
    }
   ],
   "source": [
    "#for\n",
    "for iterator in (1, 2, 3, 4):\n",
    "    print(iterator)"
   ]
  },
  {
   "cell_type": "code",
   "execution_count": 62,
   "metadata": {},
   "outputs": [
    {
     "name": "stdout",
     "output_type": "stream",
     "text": [
      "0\n",
      "1000\n",
      "2000\n",
      "3000\n",
      "4000\n",
      "5000\n",
      "6000\n",
      "7000\n",
      "8000\n",
      "9000\n"
     ]
    }
   ],
   "source": [
    "for i in range(10000):\n",
    "    if i % 1000 ==0:\n",
    "        print(i)"
   ]
  },
  {
   "cell_type": "code",
   "execution_count": 63,
   "metadata": {},
   "outputs": [
    {
     "name": "stdout",
     "output_type": "stream",
     "text": [
      "[1, 2, 3] [1, 20, 3]\n",
      "[2, 3, 4] [2, 3, 6]\n",
      "[2, 3, 8] [2, 3, 6]\n"
     ]
    }
   ],
   "source": [
    "x = [[1, 2, 3], [2, 3, 4], [2, 3, 8]]\n",
    "y = [[1, 20, 3], [2, 3, 6], [2, 3, 6] ]\n",
    "for q, w in zip(x, y):\n",
    "    print(q, end=\" \")\n",
    "    print(w)"
   ]
  },
  {
   "cell_type": "code",
   "execution_count": 64,
   "metadata": {},
   "outputs": [
    {
     "name": "stdout",
     "output_type": "stream",
     "text": [
      "[0, 0, 0]\n",
      "[0, 0, 0]\n",
      "[0, 0, 0]\n"
     ]
    }
   ],
   "source": [
    "# matrix multiplication\n",
    "result = [[0, 0, 0] for _ in range(3)] # list comp, look at the bottom\n",
    "for j in result:\n",
    "    print(j) "
   ]
  },
  {
   "cell_type": "code",
   "execution_count": 69,
   "metadata": {},
   "outputs": [
    {
     "name": "stdout",
     "output_type": "stream",
     "text": [
      "[11, 35, 33]\n",
      "[16, 61, 48]\n",
      "[24, 73, 72]\n"
     ]
    }
   ],
   "source": [
    "# iterating by rows by A\n",
    "for i in range(len(x)): \n",
    "    # iterating by column by B\n",
    "    for j in range(len(y[0])):\n",
    "        # iterating by rows of B \n",
    "        total = 0\n",
    "        for k in range(len(x[0])):\n",
    "            total += x[i][k] * y[k][j] \n",
    "        result[i][j] = total\n",
    "for j in result:\n",
    "    print(j)"
   ]
  },
  {
   "cell_type": "code",
   "execution_count": 70,
   "metadata": {},
   "outputs": [
    {
     "data": {
      "text/plain": [
       "array([[11, 35, 33],\n",
       "       [16, 61, 48],\n",
       "       [24, 73, 72]])"
      ]
     },
     "execution_count": 70,
     "metadata": {},
     "output_type": "execute_result"
    }
   ],
   "source": [
    "import numpy as np # will talk about this later\n",
    "np.array(x) @ np.array(y)"
   ]
  },
  {
   "cell_type": "markdown",
   "metadata": {},
   "source": [
    "## While Loop"
   ]
  },
  {
   "cell_type": "code",
   "execution_count": 71,
   "metadata": {},
   "outputs": [
    {
     "name": "stdout",
     "output_type": "stream",
     "text": [
      "16\n",
      "15\n",
      "14\n",
      "13\n",
      "12\n",
      "11\n",
      "10\n",
      "9\n",
      "8\n",
      "7\n",
      "6\n",
      "5\n",
      "4\n",
      "3\n",
      "2\n",
      "1\n"
     ]
    }
   ],
   "source": [
    "#while\n",
    "x = True \n",
    "y = 16\n",
    "while x:\n",
    "    print(y)\n",
    "    y -= 1\n",
    "    if y == 0:\n",
    "        x = False"
   ]
  },
  {
   "cell_type": "code",
   "execution_count": 72,
   "metadata": {},
   "outputs": [
    {
     "name": "stdout",
     "output_type": "stream",
     "text": [
      "26\n"
     ]
    }
   ],
   "source": [
    "#continue - break - pass\n",
    "for i in range(1, 100):\n",
    "    if i%13==0 and i%2==0:\n",
    "        print(i)\n",
    "        break"
   ]
  },
  {
   "cell_type": "code",
   "execution_count": 73,
   "metadata": {},
   "outputs": [
    {
     "name": "stdout",
     "output_type": "stream",
     "text": [
      "12 2\n",
      "---\n",
      "11 2\n",
      "---\n",
      "10 2\n",
      "---\n",
      "9 2\n",
      "---\n",
      "8 2\n",
      "---\n",
      "7 2\n",
      "---\n",
      "6 2\n",
      "---\n",
      "5 2\n",
      "---\n",
      "4 2\n",
      "---\n",
      "3 2\n",
      "---\n",
      "2 2\n",
      "---\n"
     ]
    }
   ],
   "source": [
    "x = 12\n",
    "y = 2\n",
    "while x >= y :\n",
    "    print(x, y)\n",
    "    x -= 1\n",
    "    print(\"---\")"
   ]
  },
  {
   "cell_type": "code",
   "execution_count": 74,
   "metadata": {},
   "outputs": [
    {
     "data": {
      "text/plain": [
       "'\\n+= first increment then assign\\n-= first decrement then assign\\n=- first decrement then assign \\n=+ first assign then increment\\n'"
      ]
     },
     "execution_count": 74,
     "metadata": {},
     "output_type": "execute_result"
    }
   ],
   "source": [
    "\"\"\"\n",
    "+= first increment then assign\n",
    "-= first decrement then assign\n",
    "=- first decrement then assign \n",
    "=+ first assign then increment\n",
    "\"\"\" "
   ]
  },
  {
   "cell_type": "code",
   "execution_count": 75,
   "metadata": {},
   "outputs": [
    {
     "name": "stdout",
     "output_type": "stream",
     "text": [
      "There is no number in given range dividable by 2 and 27  \n"
     ]
    }
   ],
   "source": [
    "# for_else\n",
    "# in this structure if the break statement doesnt execute \n",
    "# the else statement will be executed \n",
    "for i in range(1,45): \n",
    "    if i%2 == 0 and i%27 ==0: \n",
    "        print(i)\n",
    "        break \n",
    "else: \n",
    "    print(\"There is no number in given range dividable by 2 and 27  \")"
   ]
  },
  {
   "cell_type": "markdown",
   "metadata": {},
   "source": [
    "> # operators"
   ]
  },
  {
   "cell_type": "code",
   "execution_count": 76,
   "metadata": {},
   "outputs": [],
   "source": [
    "# these operators always return boolean "
   ]
  },
  {
   "cell_type": "code",
   "execution_count": 77,
   "metadata": {},
   "outputs": [
    {
     "data": {
      "text/plain": [
       "True"
      ]
     },
     "execution_count": 77,
     "metadata": {},
     "output_type": "execute_result"
    }
   ],
   "source": [
    "#in\n",
    "b = \"\".join(map(str,[1,2,3,4])) \n",
    "'1234' in b "
   ]
  },
  {
   "cell_type": "code",
   "execution_count": 79,
   "metadata": {},
   "outputs": [
    {
     "name": "stdout",
     "output_type": "stream",
     "text": [
      "2\n"
     ]
    },
    {
     "ename": "AssertionError",
     "evalue": "the entree is not an bool",
     "output_type": "error",
     "traceback": [
      "\u001b[1;31m---------------------------------------------------------------------------\u001b[0m",
      "\u001b[1;31mAssertionError\u001b[0m                            Traceback (most recent call last)",
      "\u001b[1;32m<ipython-input-79-8f45c5a6e9dc>\u001b[0m in \u001b[0;36m<module>\u001b[1;34m()\u001b[0m\n\u001b[0;32m      1\u001b[0m \u001b[1;31m#is\u001b[0m\u001b[1;33m\u001b[0m\u001b[1;33m\u001b[0m\u001b[0m\n\u001b[0;32m      2\u001b[0m \u001b[0ma\u001b[0m \u001b[1;33m=\u001b[0m \u001b[0meval\u001b[0m\u001b[1;33m(\u001b[0m\u001b[0minput\u001b[0m\u001b[1;33m(\u001b[0m\u001b[1;33m)\u001b[0m\u001b[1;33m)\u001b[0m\u001b[1;33m\u001b[0m\u001b[0m\n\u001b[1;32m----> 3\u001b[1;33m \u001b[1;32massert\u001b[0m \u001b[0mtype\u001b[0m\u001b[1;33m(\u001b[0m\u001b[0ma\u001b[0m\u001b[1;33m)\u001b[0m \u001b[1;32mis\u001b[0m \u001b[0mbool\u001b[0m\u001b[1;33m,\u001b[0m\u001b[1;34m\"the entree is not an bool\"\u001b[0m\u001b[1;33m\u001b[0m\u001b[0m\n\u001b[0m\u001b[0;32m      4\u001b[0m \u001b[1;31m# assert is a command that if the given condition doesnt uphold will return error\u001b[0m\u001b[1;33m\u001b[0m\u001b[1;33m\u001b[0m\u001b[0m\n",
      "\u001b[1;31mAssertionError\u001b[0m: the entree is not an bool"
     ]
    }
   ],
   "source": [
    "#is\n",
    "a = eval(input()) \n",
    "assert type(a) is bool,\"the entree is not an bool\"\n",
    "# assert is a command that if the given condition doesnt uphold will return error "
   ]
  },
  {
   "cell_type": "code",
   "execution_count": 80,
   "metadata": {},
   "outputs": [
    {
     "data": {
      "text/plain": [
       "False"
      ]
     },
     "execution_count": 80,
     "metadata": {},
     "output_type": "execute_result"
    }
   ],
   "source": [
    "#not\n",
    "b = \"\".join(map(str,[1,2,3,4])) \n",
    "'1234' not in b "
   ]
  },
  {
   "cell_type": "markdown",
   "metadata": {},
   "source": [
    "> # Function"
   ]
  },
  {
   "cell_type": "code",
   "execution_count": 81,
   "metadata": {},
   "outputs": [
    {
     "name": "stdout",
     "output_type": "stream",
     "text": [
      "4\n"
     ]
    }
   ],
   "source": [
    "# function returning nothing\n",
    "# some functions can recieve elements and return nothing these function either do a global \n",
    "# change or output something \n",
    "def adder(x): \n",
    "    print(x+2) \n",
    "adder(2) "
   ]
  },
  {
   "cell_type": "code",
   "execution_count": 82,
   "metadata": {},
   "outputs": [
    {
     "data": {
      "text/plain": [
       "3.7416573867739413"
      ]
     },
     "execution_count": 82,
     "metadata": {},
     "output_type": "execute_result"
    }
   ],
   "source": [
    "# function returning one parameter \n",
    "def euc_dist(x,y,z): \n",
    "    return (x**2 + y**2 + z**2)**0.5\n",
    "point1 = euc_dist(1,2,3)\n",
    "point1"
   ]
  },
  {
   "cell_type": "code",
   "execution_count": 83,
   "metadata": {},
   "outputs": [],
   "source": [
    "# function returning more than one parameter\n",
    "def test_func(*kw): # * (Astric) is explained on bottom but here it means you can enter all the parameters you want without limit\n",
    "    vals = [0 for _ in range(len(kw))] # list comp is explained on the end \n",
    "    for i in range(len(kw)):\n",
    "        vals[i] = kw[i] + 1\n",
    "    return kw, vals"
   ]
  },
  {
   "cell_type": "code",
   "execution_count": 84,
   "metadata": {},
   "outputs": [
    {
     "name": "stdout",
     "output_type": "stream",
     "text": [
      "1 2 3 4\n",
      "2 3 4 5\n"
     ]
    }
   ],
   "source": [
    "before, after = test_func(1,2,3,4)\n",
    "# for * read the end of file\n",
    "print(*before)\n",
    "print(*after)"
   ]
  },
  {
   "cell_type": "code",
   "execution_count": 85,
   "metadata": {},
   "outputs": [],
   "source": [
    "# sometimes we desire a parameter not be asked unless we want it to change  \n",
    "# this certain parameter is called \"Default parameter\" and it must be followed after\n",
    "# undefault params otherwise you will be facing error  \n",
    "def norm(x, y, z, n = 2): \n",
    "    return (abs(x**n) + abs(z**n) + abs(y**2)) ** (1/n) \n",
    "# the default is L2 norm  \n",
    "# but it will also calculate other norms \n",
    "# abs is absolute value  \n",
    "p1L2norm = norm(1000,1000,1000) \n",
    "p1L1norm = norm(1000,1000,1000, 1) "
   ]
  },
  {
   "cell_type": "code",
   "execution_count": 86,
   "metadata": {},
   "outputs": [
    {
     "data": {
      "text/plain": [
       "(1732.0508075688772, 1002000.0)"
      ]
     },
     "execution_count": 86,
     "metadata": {},
     "output_type": "execute_result"
    }
   ],
   "source": [
    "p1L2norm , p1L1norm "
   ]
  },
  {
   "cell_type": "markdown",
   "metadata": {},
   "source": [
    "> # Local variables and global variables"
   ]
  },
  {
   "cell_type": "code",
   "execution_count": 87,
   "metadata": {},
   "outputs": [
    {
     "name": "stdout",
     "output_type": "stream",
     "text": [
      "1\n"
     ]
    }
   ],
   "source": [
    "#in functions and classes scope every variable will be defined if its defined inside that scope \n",
    "#so we call each variable local to its own scope, the global is a variable that will be defi ned \n",
    "# through all of the current file \n",
    "def test(x, y): \n",
    "    x = 12 \n",
    "    return x + y \n",
    "print(x) # x is local to the test function "
   ]
  },
  {
   "cell_type": "code",
   "execution_count": 88,
   "metadata": {},
   "outputs": [
    {
     "ename": "SyntaxError",
     "evalue": "name 'x' is parameter and global (<ipython-input-88-3dc1d00853c8>, line 2)",
     "output_type": "error",
     "traceback": [
      "\u001b[1;36m  File \u001b[1;32m\"<ipython-input-88-3dc1d00853c8>\"\u001b[1;36m, line \u001b[1;32m2\u001b[0m\n\u001b[1;33m    global x\u001b[0m\n\u001b[1;37m    ^\u001b[0m\n\u001b[1;31mSyntaxError\u001b[0m\u001b[1;31m:\u001b[0m name 'x' is parameter and global\n"
     ]
    }
   ],
   "source": [
    "def test(x, y): \n",
    "    global x\n",
    "    x = 12 \n",
    "    return x + y \n",
    "\n",
    "print(x) # name 'x' is parameter and global ,  \n",
    "# global variables cant be parameter of a function "
   ]
  },
  {
   "cell_type": "code",
   "execution_count": 89,
   "metadata": {},
   "outputs": [
    {
     "data": {
      "text/plain": [
       "26"
      ]
     },
     "execution_count": 89,
     "metadata": {},
     "output_type": "execute_result"
    }
   ],
   "source": [
    "global x\n",
    "x = 12 \n",
    "def test(y):\n",
    "    return x + y \n",
    "test(14) \n",
    "# x is global, not local to test function yet defined"
   ]
  },
  {
   "cell_type": "markdown",
   "metadata": {},
   "source": [
    "> ## Astrics (*) as parameter"
   ]
  },
  {
   "cell_type": "code",
   "execution_count": 90,
   "metadata": {},
   "outputs": [
    {
     "name": "stdout",
     "output_type": "stream",
     "text": [
      "[1, 2, 3, 4, 6, 7]\n",
      "1 2 3 4 6 7\n"
     ]
    }
   ],
   "source": [
    "# to unpack an iterable as the input of a function we can use *\n",
    "# simplest use : in printing \n",
    "x = [1, 2, 3, 4, 6, 7] \n",
    "print(x) \n",
    "print(*x) # this is equivalent to print(x[0], ..., x[n])"
   ]
  },
  {
   "cell_type": "code",
   "execution_count": 91,
   "metadata": {},
   "outputs": [],
   "source": [
    "# it also can be used as a tool to input any number of enterance\n",
    "def norm_generalized(*param, n = 2): \n",
    "        norm = sum(list(map(lambda x : x**n, param)))**(1/n)   \n",
    "        return norm "
   ]
  },
  {
   "cell_type": "code",
   "execution_count": 92,
   "metadata": {},
   "outputs": [
    {
     "data": {
      "text/plain": [
       "16.881943016134134"
      ]
     },
     "execution_count": 92,
     "metadata": {},
     "output_type": "execute_result"
    }
   ],
   "source": [
    "norm_generalized(1, 2, 3, 4, 5, 6, 7, 8, 9, n=2)\n",
    "# norm of a vector in 9-dim  \n",
    "# caution if u are to use default param with *, you should define your default param at the end"
   ]
  },
  {
   "cell_type": "code",
   "execution_count": 93,
   "metadata": {},
   "outputs": [
    {
     "data": {
      "text/plain": [
       "('ALI',\n",
       " {'term': 1, 'math': 12, 'physics': 17, 'geoedesy': 3},\n",
       " {'term': 2, 'Linear algebra': 18, 'programming': 20, 'carto': 3})"
      ]
     },
     "execution_count": 93,
     "metadata": {},
     "output_type": "execute_result"
    }
   ],
   "source": [
    "# * in tuple unpacking \n",
    "info = ('ALI', {\n",
    "    'term' : 1,  \n",
    "    'math': 12, \n",
    "    'physics': 17,\n",
    "    'geoedesy': 3 },\n",
    "{ \n",
    "    'term' : 2, \n",
    "    'Linear algebra' : 18,  \n",
    "    'programming' : 20,  \n",
    "    'carto' : 3 \n",
    "})\n",
    "info"
   ]
  },
  {
   "cell_type": "code",
   "execution_count": 94,
   "metadata": {},
   "outputs": [],
   "source": [
    "# now to unpack the tuple into a single variable and a tuple of each terms grades we use *\n",
    "# which means other than the first put the rest in grades variable\n",
    "name ,*grades = info "
   ]
  },
  {
   "cell_type": "code",
   "execution_count": 95,
   "metadata": {},
   "outputs": [
    {
     "data": {
      "text/plain": [
       "'ALI'"
      ]
     },
     "execution_count": 95,
     "metadata": {},
     "output_type": "execute_result"
    }
   ],
   "source": [
    "name"
   ]
  },
  {
   "cell_type": "code",
   "execution_count": 96,
   "metadata": {},
   "outputs": [
    {
     "data": {
      "text/plain": [
       "[{'term': 1, 'math': 12, 'physics': 17, 'geoedesy': 3},\n",
       " {'term': 2, 'Linear algebra': 18, 'programming': 20, 'carto': 3}]"
      ]
     },
     "execution_count": 96,
     "metadata": {},
     "output_type": "execute_result"
    }
   ],
   "source": [
    "grades"
   ]
  },
  {
   "cell_type": "markdown",
   "metadata": {},
   "source": [
    "> # Lambda"
   ]
  },
  {
   "cell_type": "code",
   "execution_count": 99,
   "metadata": {},
   "outputs": [
    {
     "data": {
      "image/png": "[encoded data removed]",
      "text/plain": [
       "<Figure size 432x288 with 1 Axes>"
      ]
     },
     "metadata": {
      "needs_background": "light"
     },
     "output_type": "display_data"
    }
   ],
   "source": [
    "# one linear function\n",
    "import numpy as np \n",
    "import  matplotlib.pyplot as plt \n",
    "sincfunc = lambda x: np.sin(x) / x \n",
    "x = np.linspace(-3* np.pi , 3* np.pi, 300)\n",
    "y = sincfunc(x) \n",
    "plt.plot(x, y) \n",
    "plt.title('sinc function') \n",
    "plt.show() "
   ]
  },
  {
   "cell_type": "code",
   "execution_count": 98,
   "metadata": {},
   "outputs": [
    {
     "data": {
      "text/plain": [
       "3.7416573867739413"
      ]
     },
     "execution_count": 98,
     "metadata": {},
     "output_type": "execute_result"
    }
   ],
   "source": [
    "# lambda in lambda =] \n",
    "norm_generalized = lambda *param,n : sum(list(map(lambda x : x**n, param)))**(1/n) \n",
    "norm_generalized(1,2,3, n = 2 ) "
   ]
  },
  {
   "cell_type": "markdown",
   "metadata": {},
   "source": [
    "> # Map"
   ]
  },
  {
   "cell_type": "code",
   "execution_count": 100,
   "metadata": {},
   "outputs": [
    {
     "name": "stdout",
     "output_type": "stream",
     "text": [
      "enter a bunch of numbers comma separated \t2,3,4,5,6,7,8\n"
     ]
    },
    {
     "data": {
      "text/plain": [
       "['2', '3', '4', '5', '6', '7', '8']"
      ]
     },
     "execution_count": 100,
     "metadata": {},
     "output_type": "execute_result"
    }
   ],
   "source": [
    "# applies a function to an iterable\n",
    "# lets say you have a list of strings such as inputing things you need to make int or vicaversa \n",
    "ins = input(\"enter a bunch of numbers comma separated \\t\").split(\",\") \n",
    "ins "
   ]
  },
  {
   "cell_type": "code",
   "execution_count": 101,
   "metadata": {},
   "outputs": [
    {
     "data": {
      "text/plain": [
       "<map at 0x196feab5278>"
      ]
     },
     "execution_count": 101,
     "metadata": {},
     "output_type": "execute_result"
    }
   ],
   "source": [
    "# all the values are strings to make them int we should map the int func to\n",
    "# all of the lists value \n",
    "map(int, ins) \n",
    "# map itself is an object and can not be used until turned back into an iterable"
   ]
  },
  {
   "cell_type": "code",
   "execution_count": 102,
   "metadata": {},
   "outputs": [
    {
     "data": {
      "text/plain": [
       "(2, 3, 4, 5, 6, 7, 8)"
      ]
     },
     "execution_count": 102,
     "metadata": {},
     "output_type": "execute_result"
    }
   ],
   "source": [
    "tuple(map(int, ins)) # turned into a tuple of ints"
   ]
  },
  {
   "cell_type": "code",
   "execution_count": 103,
   "metadata": {},
   "outputs": [
    {
     "data": {
      "text/plain": [
       "[9.9e-06, -1.98e-06]"
      ]
     },
     "execution_count": 103,
     "metadata": {},
     "output_type": "execute_result"
    }
   ],
   "source": [
    "diclayer10 ={ \n",
    "    \"dw\" : [0.00001, -0.000002],\n",
    "    \"db\" : [0.00001, 0.2] \n",
    "}\n",
    "global alpha \n",
    "alpha = 0.01 \n",
    "list(map(lambda x: x - x * alpha, list(diclayer10.values())[0])) \n",
    "# updating the the 'dw' with dw = dw - alpha * dw \n",
    "# FYI : a real world application in neural networks w = w - alpha * dw in gradiant descent"
   ]
  },
  {
   "cell_type": "markdown",
   "metadata": {},
   "source": [
    "> ## list comprehension and generators"
   ]
  },
  {
   "cell_type": "code",
   "execution_count": 104,
   "metadata": {},
   "outputs": [
    {
     "data": {
      "text/plain": [
       "['E', 'T', 'H', ' ', 'u', 'n', 'i']"
      ]
     },
     "execution_count": 104,
     "metadata": {},
     "output_type": "execute_result"
    }
   ],
   "source": [
    "# list comprehension is a type of itertion method in python to make the iterated result save in  \n",
    "# a list of values  \n",
    "string = 'ETH uni' \n",
    "listcomp = [char for char in string]\n",
    "listcomp"
   ]
  },
  {
   "cell_type": "code",
   "execution_count": 105,
   "metadata": {},
   "outputs": [
    {
     "data": {
      "text/plain": [
       "generator"
      ]
     },
     "execution_count": 105,
     "metadata": {},
     "output_type": "execute_result"
    }
   ],
   "source": [
    "# you can also put conditions and nested for with listcomp we also have dictionary and tuples \n",
    "# but in tuples we have another type called generator in which you can search on google\n",
    "# generator have vast application when you ran out of RAM during execution of some loops\n",
    "tuplegen = (char for char in string)\n",
    "type(tuplegen)"
   ]
  }
 ],
 "metadata": {
  "kernelspec": {
   "display_name": "Python 3",
   "language": "python",
   "name": "python3"
  },
  "language_info": {
   "codemirror_mode": {
    "name": "ipython",
    "version": 3
   },
   "file_extension": ".py",
   "mimetype": "text/x-python",
   "name": "python",
   "nbconvert_exporter": "python",
   "pygments_lexer": "ipython3",
   "version": "3.7.0"
  }
 },
 "nbformat": 4,
 "nbformat_minor": 2
}
