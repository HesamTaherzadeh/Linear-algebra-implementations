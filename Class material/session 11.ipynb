{
 "cells": [
  {
   "cell_type": "code",
   "execution_count": 2,
   "metadata": {},
   "outputs": [],
   "source": [
    "import numpy as np \n",
    "import sympy as sp\n",
    "from scipy import linalg"
   ]
  },
  {
   "cell_type": "markdown",
   "metadata": {},
   "source": [
    "## LU decomposition"
   ]
  },
  {
   "cell_type": "markdown",
   "metadata": {},
   "source": [
    "## ${\\displaystyle {\\begin{bmatrix}a_{11}&a_{12}&a_{13}\\\\a_{21}&a_{22}&a_{23}\\\\a_{31}&a_{32}&a_{33}\\end{bmatrix}}={\\begin{bmatrix}\\ell _{11}&0&0\\\\\\ell _{21}&\\ell _{22}&0\\\\\\ell _{31}&\\ell _{32}&\\ell _{33}\\end{bmatrix}}{\\begin{bmatrix}u_{11}&u_{12}&u_{13}\\\\0&u_{22}&u_{23}\\\\0&0&u_{33}\\end{bmatrix}}.}$"
   ]
  },
  {
   "cell_type": "markdown",
   "metadata": {},
   "source": [
    "# without permutation\n",
    "# $A = LU$"
   ]
  },
  {
   "cell_type": "markdown",
   "metadata": {},
   "source": [
    "# with permutation\n",
    "# $A = PLU$"
   ]
  },
  {
   "cell_type": "code",
   "execution_count": 5,
   "metadata": {},
   "outputs": [],
   "source": [
    "A = np.arange(25).reshape(5,5)"
   ]
  },
  {
   "cell_type": "code",
   "execution_count": 6,
   "metadata": {},
   "outputs": [
    {
     "data": {
      "text/latex": [
       "$\\displaystyle \\left[\\begin{matrix}0 & 1 & 2 & 3 & 4\\\\5 & 6 & 7 & 8 & 9\\\\10 & 11 & 12 & 13 & 14\\\\15 & 16 & 17 & 18 & 19\\\\20 & 21 & 22 & 23 & 24\\end{matrix}\\right]$"
      ],
      "text/plain": [
       "Matrix([\n",
       "[ 0,  1,  2,  3,  4],\n",
       "[ 5,  6,  7,  8,  9],\n",
       "[10, 11, 12, 13, 14],\n",
       "[15, 16, 17, 18, 19],\n",
       "[20, 21, 22, 23, 24]])"
      ]
     },
     "execution_count": 6,
     "metadata": {},
     "output_type": "execute_result"
    }
   ],
   "source": [
    "sp.Matrix(A)"
   ]
  },
  {
   "cell_type": "code",
   "execution_count": 8,
   "metadata": {},
   "outputs": [],
   "source": [
    "p, l, u = linalg.lu(A)"
   ]
  },
  {
   "cell_type": "code",
   "execution_count": 12,
   "metadata": {},
   "outputs": [
    {
     "data": {
      "text/latex": [
       "$\\displaystyle \\left[\\begin{matrix}0 & 1.0 & 0 & 0 & 0\\\\0 & 0 & 0 & 0 & 1.0\\\\0 & 0 & 1.0 & 0 & 0\\\\0 & 0 & 0 & 1.0 & 0\\\\1.0 & 0 & 0 & 0 & 0\\end{matrix}\\right]$"
      ],
      "text/plain": [
       "Matrix([\n",
       "[  0, 1.0,   0,   0,   0],\n",
       "[  0,   0,   0,   0, 1.0],\n",
       "[  0,   0, 1.0,   0,   0],\n",
       "[  0,   0,   0, 1.0,   0],\n",
       "[1.0,   0,   0,   0,   0]])"
      ]
     },
     "metadata": {},
     "output_type": "display_data"
    },
    {
     "data": {
      "text/latex": [
       "$\\displaystyle \\left[\\begin{matrix}1.0 & 0 & 0 & 0 & 0\\\\0 & 1.0 & 0 & 0 & 0\\\\0.5 & 0.5 & 1.0 & 0 & 0\\\\0.75 & 0.25 & 0 & 1.0 & 0\\\\0.25 & 0.75 & 0 & 0 & 1.0\\end{matrix}\\right]$"
      ],
      "text/plain": [
       "Matrix([\n",
       "[ 1.0,    0,   0,   0,   0],\n",
       "[   0,  1.0,   0,   0,   0],\n",
       "[ 0.5,  0.5, 1.0,   0,   0],\n",
       "[0.75, 0.25,   0, 1.0,   0],\n",
       "[0.25, 0.75,   0,   0, 1.0]])"
      ]
     },
     "metadata": {},
     "output_type": "display_data"
    },
    {
     "data": {
      "text/latex": [
       "$\\displaystyle \\left[\\begin{matrix}20.0 & 21.0 & 22.0 & 23.0 & 24.0\\\\0 & 1.0 & 2.0 & 3.0 & 4.0\\\\0 & 0 & 0 & 0 & 0\\\\0 & 0 & 0 & 0 & 0\\\\0 & 0 & 0 & 0 & 0\\end{matrix}\\right]$"
      ],
      "text/plain": [
       "Matrix([\n",
       "[20.0, 21.0, 22.0, 23.0, 24.0],\n",
       "[   0,  1.0,  2.0,  3.0,  4.0],\n",
       "[   0,    0,    0,    0,    0],\n",
       "[   0,    0,    0,    0,    0],\n",
       "[   0,    0,    0,    0,    0]])"
      ]
     },
     "metadata": {},
     "output_type": "display_data"
    }
   ],
   "source": [
    "display(sp.Matrix(p))\n",
    "display(sp.Matrix(l))\n",
    "display(sp.Matrix(u))"
   ]
  },
  {
   "cell_type": "code",
   "execution_count": 14,
   "metadata": {},
   "outputs": [
    {
     "data": {
      "text/plain": [
       "array([[ 0.,  1.,  2.,  3.,  4.],\n",
       "       [ 5.,  6.,  7.,  8.,  9.],\n",
       "       [10., 11., 12., 13., 14.],\n",
       "       [15., 16., 17., 18., 19.],\n",
       "       [20., 21., 22., 23., 24.]])"
      ]
     },
     "execution_count": 14,
     "metadata": {},
     "output_type": "execute_result"
    }
   ],
   "source": [
    "p @ l @ u"
   ]
  },
  {
   "cell_type": "markdown",
   "metadata": {},
   "source": [
    "https://math.stackexchange.com/questions/1880573/lu-decomposition-vs-cholesky-decomposition"
   ]
  },
  {
   "cell_type": "markdown",
   "metadata": {},
   "source": [
    "## Cholesky (if and only if your matrix is positive definitive)"
   ]
  },
  {
   "cell_type": "markdown",
   "metadata": {},
   "source": [
    "# $A = LL^T$"
   ]
  },
  {
   "cell_type": "code",
   "execution_count": 16,
   "metadata": {},
   "outputs": [],
   "source": [
    "# l = np.linalg.cholesky(A) # Matrix is not positive definite"
   ]
  },
  {
   "cell_type": "code",
   "execution_count": 25,
   "metadata": {},
   "outputs": [],
   "source": [
    "mat1 = np.array([[8, 3],\n",
    "                [3, 6]])"
   ]
  },
  {
   "cell_type": "code",
   "execution_count": 26,
   "metadata": {},
   "outputs": [],
   "source": [
    "l = np.linalg.cholesky(mat1)"
   ]
  },
  {
   "cell_type": "code",
   "execution_count": 29,
   "metadata": {},
   "outputs": [
    {
     "data": {
      "text/latex": [
       "$\\displaystyle \\left[\\begin{matrix}8 & 3\\\\3 & 6\\end{matrix}\\right]$"
      ],
      "text/plain": [
       "Matrix([\n",
       "[8, 3],\n",
       "[3, 6]])"
      ]
     },
     "metadata": {},
     "output_type": "display_data"
    },
    {
     "data": {
      "text/latex": [
       "$\\displaystyle \\left[\\begin{matrix}2.82842712474619 & 0\\\\1.06066017177982 & 2.20794021658196\\end{matrix}\\right]$"
      ],
      "text/plain": [
       "Matrix([\n",
       "[2.82842712474619,                0],\n",
       "[1.06066017177982, 2.20794021658196]])"
      ]
     },
     "metadata": {},
     "output_type": "display_data"
    }
   ],
   "source": [
    "display(sp.Matrix(mat1))\n",
    "display(sp.Matrix(l))"
   ]
  },
  {
   "cell_type": "code",
   "execution_count": 27,
   "metadata": {},
   "outputs": [
    {
     "data": {
      "text/plain": [
       "array([[8., 3.],\n",
       "       [3., 6.]])"
      ]
     },
     "execution_count": 27,
     "metadata": {},
     "output_type": "execute_result"
    }
   ],
   "source": [
    "l @ l.T"
   ]
  },
  {
   "cell_type": "markdown",
   "metadata": {},
   "source": [
    "## QR"
   ]
  },
  {
   "cell_type": "markdown",
   "metadata": {},
   "source": [
    "## ${\\displaystyle {\\begin{aligned}\\mathbf {u} _{1}&=\\mathbf {a} _{1},&\\mathbf {e} _{1}&={\\frac {\\mathbf {u} _{1}}{\\|\\mathbf {u} _{1}\\|}}\\\\\\mathbf {u} _{2}&=\\mathbf {a} _{2}-\\operatorname {proj} _{\\mathbf {u} _{1}}\\mathbf {a} _{2},&\\mathbf {e} _{2}&={\\frac {\\mathbf {u} _{2}}{\\|\\mathbf {u} _{2}\\|}}\\\\\\mathbf {u} _{3}&=\\mathbf {a} _{3}-\\operatorname {proj} _{\\mathbf {u} _{1}}\\mathbf {a} _{3}-\\operatorname {proj} _{\\mathbf {u} _{2}}\\mathbf {a} _{3},&\\mathbf {e} _{3}&={\\frac {\\mathbf {u} _{3}}{\\|\\mathbf {u} _{3}\\|}}\\\\&\\;\\;\\vdots &&\\;\\;\\vdots \\\\\\mathbf {u} _{k}&=\\mathbf {a} _{k}-\\sum _{j=1}^{k-1}\\operatorname {proj} _{\\mathbf {u} _{j}}\\mathbf {a} _{k},&\\mathbf {e} _{k}&={\\frac {\\mathbf {u} _{k}}{\\|\\mathbf {u} _{k}\\|}}\\end{aligned}}}$"
   ]
  },
  {
   "cell_type": "markdown",
   "metadata": {},
   "source": [
    "# ${\\displaystyle Q={\\begin{bmatrix}\\mathbf {e} _{1}&\\cdots &\\mathbf {e} _{n}\\end{bmatrix}}}$"
   ]
  },
  {
   "cell_type": "markdown",
   "metadata": {},
   "source": [
    "## ${\\displaystyle R={\\begin{bmatrix}\\langle \\mathbf {e} _{1},\\mathbf {a} _{1}\\rangle &\\langle \\mathbf {e} _{1},\\mathbf {a} _{2}\\rangle &\\langle \\mathbf {e} _{1},\\mathbf {a} _{3}\\rangle &\\cdots \\\\0&\\langle \\mathbf {e} _{2},\\mathbf {a} _{2}\\rangle &\\langle \\mathbf {e} _{2},\\mathbf {a} _{3}\\rangle &\\cdots \\\\0&0&\\langle \\mathbf {e} _{3},\\mathbf {a} _{3}\\rangle &\\cdots \\\\\\vdots &\\vdots &\\vdots &\\ddots \\end{bmatrix}}.}$"
   ]
  },
  {
   "cell_type": "code",
   "execution_count": 30,
   "metadata": {},
   "outputs": [],
   "source": [
    "q, r = np.linalg.qr(A)"
   ]
  },
  {
   "cell_type": "code",
   "execution_count": 32,
   "metadata": {},
   "outputs": [
    {
     "data": {
      "text/latex": [
       "$\\displaystyle \\left[\\begin{matrix}0 & -0.774596669241482 & 0.62041604233261 & -0.0963687521223961 & 0.0761380196138304\\\\-0.182574185835055 & -0.516397779494324 & -0.654433550925211 & 0.28324872277586 & 0.43759214854618\\\\-0.365148371670111 & -0.258198889747162 & -0.189737503803796 & 0.177686165594704 & -0.855819669209907\\\\-0.547722557505166 & 5.55111512312578 \\cdot 10^{-16} & -0.138888508947204 & -0.819643491027409 & 0.0943108143259549\\\\-0.730296743340221 & 0.258198889747162 & 0.362643521343603 & 0.455077354779239 & 0.247778686723943\\end{matrix}\\right]$"
      ],
      "text/plain": [
       "Matrix([\n",
       "[                 0,   -0.774596669241482,   0.62041604233261, -0.0963687521223961, 0.0761380196138304],\n",
       "[-0.182574185835055,   -0.516397779494324, -0.654433550925211,    0.28324872277586,   0.43759214854618],\n",
       "[-0.365148371670111,   -0.258198889747162, -0.189737503803796,   0.177686165594704, -0.855819669209907],\n",
       "[-0.547722557505166, 5.55111512312578e-16, -0.138888508947204,  -0.819643491027409, 0.0943108143259549],\n",
       "[-0.730296743340221,    0.258198889747162,  0.362643521343603,   0.455077354779239,  0.247778686723943]])"
      ]
     },
     "execution_count": 32,
     "metadata": {},
     "output_type": "execute_result"
    }
   ],
   "source": [
    "sp.Matrix(q)"
   ]
  },
  {
   "cell_type": "code",
   "execution_count": 38,
   "metadata": {},
   "outputs": [
    {
     "data": {
      "text/plain": [
       "0.9999999999999999"
      ]
     },
     "execution_count": 38,
     "metadata": {},
     "output_type": "execute_result"
    }
   ],
   "source": [
    "np.linalg.norm(q[:, 3]) # magnitude equals one"
   ]
  },
  {
   "cell_type": "code",
   "execution_count": 40,
   "metadata": {},
   "outputs": [
    {
     "data": {
      "text/plain": [
       "-2.1510571102112408e-16"
      ]
     },
     "execution_count": 40,
     "metadata": {},
     "output_type": "execute_result"
    }
   ],
   "source": [
    "q[0].dot(q[1]) # orthogonality of rows"
   ]
  },
  {
   "cell_type": "code",
   "execution_count": 41,
   "metadata": {},
   "outputs": [
    {
     "data": {
      "text/plain": [
       "-1.1102230246251565e-16"
      ]
     },
     "execution_count": 41,
     "metadata": {},
     "output_type": "execute_result"
    }
   ],
   "source": [
    "q[:, 0].dot(q[:, 1]) # orthogonality of rows"
   ]
  },
  {
   "cell_type": "code",
   "execution_count": 42,
   "metadata": {},
   "outputs": [
    {
     "data": {
      "text/plain": [
       "array([[ 0.,  1.,  2.,  3.,  4.],\n",
       "       [ 5.,  6.,  7.,  8.,  9.],\n",
       "       [10., 11., 12., 13., 14.],\n",
       "       [15., 16., 17., 18., 19.],\n",
       "       [20., 21., 22., 23., 24.]])"
      ]
     },
     "execution_count": 42,
     "metadata": {},
     "output_type": "execute_result"
    }
   ],
   "source": [
    "q @ r"
   ]
  },
  {
   "cell_type": "code",
   "execution_count": 46,
   "metadata": {},
   "outputs": [
    {
     "data": {
      "text/latex": [
       "$\\displaystyle \\left[\\begin{matrix}1.0 & 0 & 0 & 0 & 0\\\\0 & 1.0 & 0 & 0 & 0\\\\0 & 0 & 1.0 & 0 & 0\\\\0 & 0 & 0 & 1.0 & 0\\\\0 & 0 & 0 & 0 & 1.0\\end{matrix}\\right]$"
      ],
      "text/plain": [
       "Matrix([\n",
       "[1.0,   0,   0,   0,   0],\n",
       "[  0, 1.0,   0,   0,   0],\n",
       "[  0,   0, 1.0,   0,   0],\n",
       "[  0,   0,   0, 1.0,   0],\n",
       "[  0,   0,   0,   0, 1.0]])"
      ]
     },
     "execution_count": 46,
     "metadata": {},
     "output_type": "execute_result"
    }
   ],
   "source": [
    "sp.Matrix(np.round(q.T @ q, 10))"
   ]
  }
 ],
 "metadata": {
  "kernelspec": {
   "display_name": "Python 3",
   "language": "python",
   "name": "python3"
  },
  "language_info": {
   "codemirror_mode": {
    "name": "ipython",
    "version": 3
   },
   "file_extension": ".py",
   "mimetype": "text/x-python",
   "name": "python",
   "nbconvert_exporter": "python",
   "pygments_lexer": "ipython3",
   "version": "3.7.0"
  }
 },
 "nbformat": 4,
 "nbformat_minor": 2
}
