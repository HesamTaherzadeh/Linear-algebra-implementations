{
 "cells": [
  {
   "cell_type": "markdown",
   "metadata": {},
   "source": [
    "# Types of matrix multiplications"
   ]
  },
  {
   "cell_type": "code",
   "execution_count": 4,
   "metadata": {},
   "outputs": [],
   "source": [
    "import numpy as np \n",
    "import sympy as sp \n",
    "from scipy import linalg"
   ]
  },
  {
   "cell_type": "code",
   "execution_count": 5,
   "metadata": {},
   "outputs": [],
   "source": [
    "matrix_1 = np.array([[1, 2], [3, 4]])"
   ]
  },
  {
   "cell_type": "code",
   "execution_count": 6,
   "metadata": {},
   "outputs": [
    {
     "data": {
      "text/plain": [
       "array([[ 7, 10],\n",
       "       [15, 22]])"
      ]
     },
     "execution_count": 6,
     "metadata": {},
     "output_type": "execute_result"
    }
   ],
   "source": [
    "matrix_1 @ matrix_1"
   ]
  },
  {
   "cell_type": "markdown",
   "metadata": {},
   "source": [
    "> ## Hadamard multiplications\n",
    "$A \\circ B =  A \\odot B = C$ for $C =[c_{ij}] = [a_{ij}\\times b_{ij}]$"
   ]
  },
  {
   "cell_type": "code",
   "execution_count": 7,
   "metadata": {},
   "outputs": [],
   "source": [
    "matrix_2 = np.arange(0, 25).reshape(5, 5)\n",
    "matrix_3 = np.arange(1, 26).reshape(5, 5)"
   ]
  },
  {
   "cell_type": "code",
   "execution_count": 8,
   "metadata": {},
   "outputs": [
    {
     "data": {
      "text/plain": [
       "array([[ 0,  1,  2,  3,  4],\n",
       "       [ 5,  6,  7,  8,  9],\n",
       "       [10, 11, 12, 13, 14],\n",
       "       [15, 16, 17, 18, 19],\n",
       "       [20, 21, 22, 23, 24]])"
      ]
     },
     "execution_count": 8,
     "metadata": {},
     "output_type": "execute_result"
    }
   ],
   "source": [
    "matrix_2 # [)"
   ]
  },
  {
   "cell_type": "code",
   "execution_count": 9,
   "metadata": {},
   "outputs": [
    {
     "data": {
      "text/plain": [
       "array([[ 1,  2,  3,  4,  5],\n",
       "       [ 6,  7,  8,  9, 10],\n",
       "       [11, 12, 13, 14, 15],\n",
       "       [16, 17, 18, 19, 20],\n",
       "       [21, 22, 23, 24, 25]])"
      ]
     },
     "execution_count": 9,
     "metadata": {},
     "output_type": "execute_result"
    }
   ],
   "source": [
    "matrix_3"
   ]
  },
  {
   "cell_type": "code",
   "execution_count": 10,
   "metadata": {},
   "outputs": [
    {
     "data": {
      "text/plain": [
       "array([[  0,   2,   6,  12,  20],\n",
       "       [ 30,  42,  56,  72,  90],\n",
       "       [110, 132, 156, 182, 210],\n",
       "       [240, 272, 306, 342, 380],\n",
       "       [420, 462, 506, 552, 600]])"
      ]
     },
     "execution_count": 10,
     "metadata": {},
     "output_type": "execute_result"
    }
   ],
   "source": [
    "matrix_2 * matrix_3"
   ]
  },
  {
   "cell_type": "markdown",
   "metadata": {},
   "source": [
    "<h1  style=\"color:red\"> BE AWARE OF NUMPY BROADCASTING <h1>"
   ]
  },
  {
   "cell_type": "code",
   "execution_count": 11,
   "metadata": {},
   "outputs": [],
   "source": [
    "matrix_4 = np.random.rand(3,3)\n",
    "matrix_5 = np.random.rand(1,3)"
   ]
  },
  {
   "cell_type": "code",
   "execution_count": 12,
   "metadata": {},
   "outputs": [
    {
     "data": {
      "text/plain": [
       "array([[0.06431468, 0.76428817, 0.05845882],\n",
       "       [0.02672887, 0.64253667, 0.20776579],\n",
       "       [0.10068422, 0.03380799, 0.13062935]])"
      ]
     },
     "execution_count": 12,
     "metadata": {},
     "output_type": "execute_result"
    }
   ],
   "source": [
    "matrix_4 * matrix_5 \n",
    "# this wrong, its the result of numpy broadcasting not hadamard multiplication"
   ]
  },
  {
   "cell_type": "markdown",
   "metadata": {},
   "source": [
    "> # Kronecker matrix  (AKA. Tensor product)\n",
    "$A \\otimes B =  \\begin{bmatrix}     a_{11}B & a_{12}B & \\dots & a_{1n}B \\\\     a_{21}B & a_{22}B & \\dots & a_{2n}B \\\\     \\vdots & \\vdots   & \\ddots & \\vdots \\\\     a_{m1}B & a_{m2}B & \\dots & a_{mn}B     \\end{bmatrix}.$\n",
    "$\\begin{bmatrix} a_{11} & a_{12} \\\\ a_{21} & a_{22} \\end{bmatrix} \\otimes \\begin{bmatrix} b_{11} & b_{12} & b_{13} \\\\ b_{21} & b_{22} & b_{23} \\end{bmatrix} = \\left[\\begin{array}{ccc|ccc} a_{11}b_{11} & a_{11}b_{12} & a_{11}b_{13} & a_{12}b_{11} &  a_{12}b_{12} & a_{12}b_{13} \\\\ a_{11}b_{21} & a_{11}b_{22} & a_{11}b_{23} & a_{12}b_{21} & a_{12}b_{22} & a_{12}b_{23} \\\\\\hline a_{21}b_{11} &  a_{21}b_{12} & a_{21}b_{13} & a_{22}b_{11} &  a_{22}b_{12} & a_{22}b_{13} \\\\ a_{21}b_{21} & a_{21}b_{22} & a_{21}b_{23} & a_{22}b_{21} & a_{22}b_{22} & a_{22}b_{23} \\end{array}\\right].$"
   ]
  },
  {
   "cell_type": "markdown",
   "metadata": {},
   "source": [
    "## $ A_{m,n} \\otimes B_{p,q} = C_{m\\times p, n \\times q} $"
   ]
  },
  {
   "cell_type": "code",
   "execution_count": 13,
   "metadata": {},
   "outputs": [],
   "source": [
    "matrix_6 = np.arange(4, 13).reshape(3, 3)\n",
    "matrix_7 = np.array([1, 2, 3])"
   ]
  },
  {
   "cell_type": "code",
   "execution_count": 14,
   "metadata": {},
   "outputs": [
    {
     "data": {
      "text/plain": [
       "array([[ 4,  5,  6],\n",
       "       [ 7,  8,  9],\n",
       "       [10, 11, 12]])"
      ]
     },
     "execution_count": 14,
     "metadata": {},
     "output_type": "execute_result"
    }
   ],
   "source": [
    "matrix_6"
   ]
  },
  {
   "cell_type": "code",
   "execution_count": 15,
   "metadata": {},
   "outputs": [
    {
     "data": {
      "text/plain": [
       "array([1, 2, 3])"
      ]
     },
     "execution_count": 15,
     "metadata": {},
     "output_type": "execute_result"
    }
   ],
   "source": [
    "matrix_7"
   ]
  },
  {
   "cell_type": "code",
   "execution_count": 16,
   "metadata": {},
   "outputs": [
    {
     "data": {
      "text/plain": [
       "array([[ 4,  8, 12,  5, 10, 15,  6, 12, 18],\n",
       "       [ 7, 14, 21,  8, 16, 24,  9, 18, 27],\n",
       "       [10, 20, 30, 11, 22, 33, 12, 24, 36]])"
      ]
     },
     "execution_count": 16,
     "metadata": {},
     "output_type": "execute_result"
    }
   ],
   "source": [
    "np.kron(matrix_6, matrix_7)"
   ]
  },
  {
   "cell_type": "code",
   "execution_count": 17,
   "metadata": {},
   "outputs": [
    {
     "data": {
      "text/plain": [
       "array([[ 4,  5,  6,  8, 10, 12, 12, 15, 18],\n",
       "       [ 7,  8,  9, 14, 16, 18, 21, 24, 27],\n",
       "       [10, 11, 12, 20, 22, 24, 30, 33, 36]])"
      ]
     },
     "execution_count": 17,
     "metadata": {},
     "output_type": "execute_result"
    }
   ],
   "source": [
    "np.kron(matrix_7, matrix_6)"
   ]
  },
  {
   "cell_type": "markdown",
   "metadata": {},
   "source": [
    "> ## $(A\\otimes B)^{-1} = A^{-1}\\otimes B^{-1}$ \n",
    "> ## $ A \\otimes (B + C) = (A \\otimes B) + (A \\otimes C)$\n",
    "> ## $ A \\otimes (B \\otimes C) = (A \\otimes B) \\otimes C$"
   ]
  },
  {
   "cell_type": "code",
   "execution_count": 18,
   "metadata": {},
   "outputs": [],
   "source": [
    "A_1 = np.random.randint(0, 9, (3, 3))\n",
    "A_2 = np.random.randint(0, 9, (2, 2))"
   ]
  },
  {
   "cell_type": "code",
   "execution_count": 19,
   "metadata": {},
   "outputs": [],
   "source": [
    "A_1_inv = np.linalg.inv(A_1)\n",
    "A_2_inv = np.linalg.inv(A_2)"
   ]
  },
  {
   "cell_type": "code",
   "execution_count": 20,
   "metadata": {},
   "outputs": [],
   "source": [
    "invk_ = np.kron(A_1_inv, A_2_inv)"
   ]
  },
  {
   "cell_type": "code",
   "execution_count": 21,
   "metadata": {},
   "outputs": [],
   "source": [
    "kinv_ = np.linalg.inv(np.kron(A_1, A_2))"
   ]
  },
  {
   "cell_type": "code",
   "execution_count": 22,
   "metadata": {},
   "outputs": [
    {
     "data": {
      "text/plain": [
       "array([[ 0.30434783, -0.17391304, -0.04347826,  0.02484472, -0.17391304,\n",
       "         0.09937888],\n",
       "       [-0.13043478,  0.2173913 ,  0.01863354, -0.0310559 ,  0.07453416,\n",
       "        -0.1242236 ],\n",
       "       [-0.30434783,  0.17391304,  0.04347826, -0.02484472,  0.22463768,\n",
       "        -0.12836439],\n",
       "       [ 0.13043478, -0.2173913 , -0.01863354,  0.0310559 , -0.09627329,\n",
       "         0.16045549],\n",
       "       [ 0.        , -0.        ,  0.04347826, -0.02484472, -0.02898551,\n",
       "         0.01656315],\n",
       "       [-0.        ,  0.        , -0.01863354,  0.0310559 ,  0.01242236,\n",
       "        -0.02070393]])"
      ]
     },
     "execution_count": 22,
     "metadata": {},
     "output_type": "execute_result"
    }
   ],
   "source": [
    "invk_"
   ]
  },
  {
   "cell_type": "code",
   "execution_count": 23,
   "metadata": {},
   "outputs": [
    {
     "data": {
      "text/plain": [
       "array([[ 0.30434783, -0.17391304, -0.04347826,  0.02484472, -0.17391304,\n",
       "         0.09937888],\n",
       "       [-0.13043478,  0.2173913 ,  0.01863354, -0.0310559 ,  0.07453416,\n",
       "        -0.1242236 ],\n",
       "       [-0.30434783,  0.17391304,  0.04347826, -0.02484472,  0.22463768,\n",
       "        -0.12836439],\n",
       "       [ 0.13043478, -0.2173913 , -0.01863354,  0.0310559 , -0.09627329,\n",
       "         0.16045549],\n",
       "       [ 0.        ,  0.        ,  0.04347826, -0.02484472, -0.02898551,\n",
       "         0.01656315],\n",
       "       [ 0.        ,  0.        , -0.01863354,  0.0310559 ,  0.01242236,\n",
       "        -0.02070393]])"
      ]
     },
     "execution_count": 23,
     "metadata": {},
     "output_type": "execute_result"
    }
   ],
   "source": [
    "kinv_"
   ]
  },
  {
   "cell_type": "code",
   "execution_count": 24,
   "metadata": {},
   "outputs": [
    {
     "data": {
      "text/plain": [
       "False"
      ]
     },
     "execution_count": 24,
     "metadata": {},
     "output_type": "execute_result"
    }
   ],
   "source": [
    "np.all(kinv_== invk_)"
   ]
  },
  {
   "cell_type": "code",
   "execution_count": 25,
   "metadata": {},
   "outputs": [
    {
     "data": {
      "text/plain": [
       "2.109312470471913e-16"
      ]
     },
     "execution_count": 25,
     "metadata": {},
     "output_type": "execute_result"
    }
   ],
   "source": [
    "np.linalg.norm(kinv_ - invk_)"
   ]
  },
  {
   "cell_type": "markdown",
   "metadata": {},
   "source": [
    "> ## Khatri-rao\n",
    "> ## $\\mathrm{A} * \\mathrm{B} = [\\mathrm{a}_1 \\otimes \\mathrm{b}_1 \\mathrm{a}_2 \\otimes \\mathrm{b}_2 \\ldots \\mathrm{a}_k \\otimes \\mathrm{b}_k]$"
   ]
  },
  {
   "cell_type": "code",
   "execution_count": 26,
   "metadata": {},
   "outputs": [],
   "source": [
    "matrix_8 = np.array([[1, 2, 3], [4, 5, 6]])\n",
    "matrix_9 = np.array([[3, 4, 5], [6, 7, 8], [6, 9, 7]])"
   ]
  },
  {
   "cell_type": "code",
   "execution_count": 27,
   "metadata": {},
   "outputs": [
    {
     "data": {
      "text/plain": [
       "array([[1, 2, 3],\n",
       "       [4, 5, 6]])"
      ]
     },
     "execution_count": 27,
     "metadata": {},
     "output_type": "execute_result"
    }
   ],
   "source": [
    "matrix_8"
   ]
  },
  {
   "cell_type": "code",
   "execution_count": 28,
   "metadata": {},
   "outputs": [
    {
     "data": {
      "text/plain": [
       "array([[3, 4, 5],\n",
       "       [6, 7, 8],\n",
       "       [6, 9, 7]])"
      ]
     },
     "execution_count": 28,
     "metadata": {},
     "output_type": "execute_result"
    }
   ],
   "source": [
    "matrix_9"
   ]
  },
  {
   "cell_type": "code",
   "execution_count": 29,
   "metadata": {},
   "outputs": [
    {
     "data": {
      "text/plain": [
       "array([[ 3,  8, 15],\n",
       "       [ 6, 14, 24],\n",
       "       [ 6, 18, 21],\n",
       "       [12, 20, 30],\n",
       "       [24, 35, 48],\n",
       "       [24, 45, 42]])"
      ]
     },
     "execution_count": 29,
     "metadata": {},
     "output_type": "execute_result"
    }
   ],
   "source": [
    "linalg.khatri_rao(matrix_8, matrix_9)"
   ]
  },
  {
   "cell_type": "markdown",
   "metadata": {},
   "source": [
    "# Norms"
   ]
  },
  {
   "cell_type": "markdown",
   "metadata": {},
   "source": [
    "> # Vector norms\n",
    "> ## $\\|A\\|_1= \\sum_{i=1}^n |a_{ij}|: \\text{   Manhatan Norm}$\n",
    "> ## $\\|A\\|_2= (\\sum_{i=1}^n |a_{ij}|^2)^\\frac{1}{2} : \\text{  Euclidean Norm}$\n",
    "> ## $ \\left\\|\\mathbf {x} \\right\\|_{\\infty }:=\\max _{i}\\left|x_{i}\\right| : \\infty \\text{  Norm}$\n",
    "> ## $ \\left\\|\\mathbf {x} \\right\\|_{p}:=\\left(\\sum _{i=1}^{n}\\left|x_{i}\\right|^{p}\\right)^\\frac{1}{p}:  \\text{Forbinus Norm}$\n"
   ]
  },
  {
   "cell_type": "markdown",
   "metadata": {},
   "source": [
    "> # Norms-induced by p-norm\n",
    "> ## $\\|A\\|_{1}=\\max _{1\\leq j\\leq n}\\sum _{i=1}^{m}|a_{ij}|$ :  the maximum absolute column sum of the matrix;\n",
    "> ## $\\|A\\|_{\\infty }=\\max _{1\\leq i\\leq m}\\sum _{j=1}^{n}|a_{ij}|$ : simply the maximum absolute row sum of the matrix\n",
    "> ## $\\|A\\|_{2}={\\sqrt {\\lambda _{\\max }\\left(A^{T}A\\right)}}=\\sigma _{\\max }(A).$"
   ]
  },
  {
   "cell_type": "code",
   "execution_count": 30,
   "metadata": {},
   "outputs": [],
   "source": [
    "matrix_9 = np.arange(25).reshape(5, 5)"
   ]
  },
  {
   "cell_type": "code",
   "execution_count": 31,
   "metadata": {},
   "outputs": [
    {
     "data": {
      "text/plain": [
       "array([[ 0,  1,  2,  3,  4],\n",
       "       [ 5,  6,  7,  8,  9],\n",
       "       [10, 11, 12, 13, 14],\n",
       "       [15, 16, 17, 18, 19],\n",
       "       [20, 21, 22, 23, 24]])"
      ]
     },
     "execution_count": 31,
     "metadata": {},
     "output_type": "execute_result"
    }
   ],
   "source": [
    "matrix_9"
   ]
  },
  {
   "cell_type": "code",
   "execution_count": 32,
   "metadata": {},
   "outputs": [
    {
     "data": {
      "text/plain": [
       "70.0"
      ]
     },
     "execution_count": 32,
     "metadata": {},
     "output_type": "execute_result"
    }
   ],
   "source": [
    "np.linalg.norm(matrix_9, ord=None)"
   ]
  },
  {
   "cell_type": "code",
   "execution_count": 33,
   "metadata": {},
   "outputs": [
    {
     "data": {
      "text/plain": [
       "110.0"
      ]
     },
     "execution_count": 33,
     "metadata": {},
     "output_type": "execute_result"
    }
   ],
   "source": [
    "np.linalg.norm(matrix_9, ord=np.inf)"
   ]
  },
  {
   "cell_type": "code",
   "execution_count": 34,
   "metadata": {},
   "outputs": [
    {
     "data": {
      "text/plain": [
       "70.0"
      ]
     },
     "execution_count": 34,
     "metadata": {},
     "output_type": "execute_result"
    }
   ],
   "source": [
    "np.linalg.norm(matrix_9, ord=1)"
   ]
  },
  {
   "cell_type": "code",
   "execution_count": 35,
   "metadata": {},
   "outputs": [
    {
     "data": {
      "text/plain": [
       "array([50, 55, 60, 65, 70])"
      ]
     },
     "execution_count": 35,
     "metadata": {},
     "output_type": "execute_result"
    }
   ],
   "source": [
    "np.sum(matrix_9, axis=0 )"
   ]
  },
  {
   "cell_type": "code",
   "execution_count": 36,
   "metadata": {},
   "outputs": [
    {
     "data": {
      "text/plain": [
       "array([ 10,  35,  60,  85, 110])"
      ]
     },
     "execution_count": 36,
     "metadata": {},
     "output_type": "execute_result"
    }
   ],
   "source": [
    "np.sum(matrix_9, axis=1)"
   ]
  },
  {
   "cell_type": "code",
   "execution_count": 37,
   "metadata": {},
   "outputs": [],
   "source": [
    "ATA = matrix_9.T @ matrix_9"
   ]
  },
  {
   "cell_type": "code",
   "execution_count": 38,
   "metadata": {},
   "outputs": [
    {
     "data": {
      "text/plain": [
       "69.90859404530168"
      ]
     },
     "execution_count": 38,
     "metadata": {},
     "output_type": "execute_result"
    }
   ],
   "source": [
    "np.sqrt(np.max(np.linalg.eig(ATA)[0]))"
   ]
  },
  {
   "cell_type": "markdown",
   "metadata": {},
   "source": [
    "> # Entry wise Norm\n",
    "> ## $\\displaystyle \\|A\\|_{p,p}=\\|\\mathrm {vec} (A)\\|_{p}=\\left(\\sum _{i=1}^{m}\\sum _{j=1}^{n}|a_{ij}|^{p}\\right)^{1/p}$"
   ]
  },
  {
   "cell_type": "code",
   "execution_count": 39,
   "metadata": {},
   "outputs": [],
   "source": [
    "def norm_entry(matrix , p=2):\n",
    "    return np.sum(np.abs(matrix)**p)**(1/p)"
   ]
  },
  {
   "cell_type": "code",
   "execution_count": 40,
   "metadata": {},
   "outputs": [
    {
     "data": {
      "text/plain": [
       "70.0"
      ]
     },
     "execution_count": 40,
     "metadata": {},
     "output_type": "execute_result"
    }
   ],
   "source": [
    "norm_entry(matrix_9)"
   ]
  },
  {
   "cell_type": "code",
   "execution_count": 41,
   "metadata": {},
   "outputs": [
    {
     "data": {
      "text/plain": [
       "44.81404746557164"
      ]
     },
     "execution_count": 41,
     "metadata": {},
     "output_type": "execute_result"
    }
   ],
   "source": [
    "norm_entry(matrix_9, 3)"
   ]
  },
  {
   "cell_type": "markdown",
   "metadata": {},
   "source": [
    "## Distance Matrix"
   ]
  },
  {
   "cell_type": "code",
   "execution_count": 42,
   "metadata": {},
   "outputs": [],
   "source": [
    "import pandas as pd"
   ]
  },
  {
   "cell_type": "code",
   "execution_count": 43,
   "metadata": {},
   "outputs": [],
   "source": [
    "data = pd.read_csv(r\"C:\\Users\\Samina\\Desktop\\coordinate_schools.csv\")"
   ]
  },
  {
   "cell_type": "code",
   "execution_count": 44,
   "metadata": {},
   "outputs": [
    {
     "data": {
      "text/html": [
       "<div>\n",
       "<style scoped>\n",
       "    .dataframe tbody tr th:only-of-type {\n",
       "        vertical-align: middle;\n",
       "    }\n",
       "\n",
       "    .dataframe tbody tr th {\n",
       "        vertical-align: top;\n",
       "    }\n",
       "\n",
       "    .dataframe thead th {\n",
       "        text-align: right;\n",
       "    }\n",
       "</style>\n",
       "<table border=\"1\" class=\"dataframe\">\n",
       "  <thead>\n",
       "    <tr style=\"text-align: right;\">\n",
       "      <th></th>\n",
       "      <th>id</th>\n",
       "      <th>N</th>\n",
       "      <th>E</th>\n",
       "    </tr>\n",
       "  </thead>\n",
       "  <tbody>\n",
       "    <tr>\n",
       "      <th>0</th>\n",
       "      <td>1</td>\n",
       "      <td>3949698.628</td>\n",
       "      <td>543976.6419</td>\n",
       "    </tr>\n",
       "    <tr>\n",
       "      <th>1</th>\n",
       "      <td>2</td>\n",
       "      <td>3950019.321</td>\n",
       "      <td>543752.2734</td>\n",
       "    </tr>\n",
       "    <tr>\n",
       "      <th>2</th>\n",
       "      <td>3</td>\n",
       "      <td>3950019.321</td>\n",
       "      <td>543752.2734</td>\n",
       "    </tr>\n",
       "    <tr>\n",
       "      <th>3</th>\n",
       "      <td>4</td>\n",
       "      <td>3950350.812</td>\n",
       "      <td>544520.9178</td>\n",
       "    </tr>\n",
       "    <tr>\n",
       "      <th>4</th>\n",
       "      <td>5</td>\n",
       "      <td>3950929.805</td>\n",
       "      <td>544947.7288</td>\n",
       "    </tr>\n",
       "  </tbody>\n",
       "</table>\n",
       "</div>"
      ],
      "text/plain": [
       "   id            N            E\n",
       "0   1  3949698.628  543976.6419\n",
       "1   2  3950019.321  543752.2734\n",
       "2   3  3950019.321  543752.2734\n",
       "3   4  3950350.812  544520.9178\n",
       "4   5  3950929.805  544947.7288"
      ]
     },
     "execution_count": 44,
     "metadata": {},
     "output_type": "execute_result"
    }
   ],
   "source": [
    "data.head(5)"
   ]
  },
  {
   "cell_type": "code",
   "execution_count": 45,
   "metadata": {},
   "outputs": [],
   "source": [
    "def dist_matrix(coordinates):\n",
    "    d_matrix = np.zeros((coordinates.shape[0], coordinates.shape[0]))\n",
    "    for i in range(coordinates.shape[0]):\n",
    "        d_matrix[i, :] = np.sqrt(np.sum((coordinates[i, :] - coordinates[:,:])**2, axis =1))\n",
    "    return d_matrix"
   ]
  },
  {
   "cell_type": "code",
   "execution_count": 46,
   "metadata": {},
   "outputs": [],
   "source": [
    "coor = np.array(list(zip(data['E'], data['N'])))"
   ]
  },
  {
   "cell_type": "code",
   "execution_count": 47,
   "metadata": {},
   "outputs": [
    {
     "data": {
      "text/html": [
       "<div>\n",
       "<style scoped>\n",
       "    .dataframe tbody tr th:only-of-type {\n",
       "        vertical-align: middle;\n",
       "    }\n",
       "\n",
       "    .dataframe tbody tr th {\n",
       "        vertical-align: top;\n",
       "    }\n",
       "\n",
       "    .dataframe thead th {\n",
       "        text-align: right;\n",
       "    }\n",
       "</style>\n",
       "<table border=\"1\" class=\"dataframe\">\n",
       "  <thead>\n",
       "    <tr style=\"text-align: right;\">\n",
       "      <th></th>\n",
       "      <th>0</th>\n",
       "      <th>1</th>\n",
       "      <th>2</th>\n",
       "      <th>3</th>\n",
       "      <th>4</th>\n",
       "      <th>5</th>\n",
       "      <th>6</th>\n",
       "      <th>7</th>\n",
       "      <th>8</th>\n",
       "      <th>9</th>\n",
       "      <th>...</th>\n",
       "      <th>20</th>\n",
       "      <th>21</th>\n",
       "      <th>22</th>\n",
       "      <th>23</th>\n",
       "      <th>24</th>\n",
       "      <th>25</th>\n",
       "      <th>26</th>\n",
       "      <th>27</th>\n",
       "      <th>28</th>\n",
       "      <th>29</th>\n",
       "    </tr>\n",
       "  </thead>\n",
       "  <tbody>\n",
       "    <tr>\n",
       "      <th>0</th>\n",
       "      <td>0.000000</td>\n",
       "      <td>391.388840</td>\n",
       "      <td>391.388840</td>\n",
       "      <td>849.458784</td>\n",
       "      <td>1568.058217</td>\n",
       "      <td>1409.501840</td>\n",
       "      <td>1417.786515</td>\n",
       "      <td>1707.640925</td>\n",
       "      <td>2985.765943</td>\n",
       "      <td>4411.126016</td>\n",
       "      <td>...</td>\n",
       "      <td>6168.025831</td>\n",
       "      <td>6171.712447</td>\n",
       "      <td>6241.674245</td>\n",
       "      <td>6252.507861</td>\n",
       "      <td>6606.511503</td>\n",
       "      <td>6610.118833</td>\n",
       "      <td>9989.781209</td>\n",
       "      <td>11157.345415</td>\n",
       "      <td>11250.265670</td>\n",
       "      <td>11302.809117</td>\n",
       "    </tr>\n",
       "    <tr>\n",
       "      <th>1</th>\n",
       "      <td>391.388840</td>\n",
       "      <td>0.000000</td>\n",
       "      <td>0.000000</td>\n",
       "      <td>837.078549</td>\n",
       "      <td>1502.695820</td>\n",
       "      <td>1255.323224</td>\n",
       "      <td>1262.405942</td>\n",
       "      <td>1508.319102</td>\n",
       "      <td>2839.670139</td>\n",
       "      <td>4272.849867</td>\n",
       "      <td>...</td>\n",
       "      <td>5985.428880</td>\n",
       "      <td>5988.754645</td>\n",
       "      <td>6058.333788</td>\n",
       "      <td>6068.788734</td>\n",
       "      <td>6429.789033</td>\n",
       "      <td>6427.872202</td>\n",
       "      <td>10027.047113</td>\n",
       "      <td>11211.836867</td>\n",
       "      <td>11302.286057</td>\n",
       "      <td>11328.385537</td>\n",
       "    </tr>\n",
       "    <tr>\n",
       "      <th>2</th>\n",
       "      <td>391.388840</td>\n",
       "      <td>0.000000</td>\n",
       "      <td>0.000000</td>\n",
       "      <td>837.078549</td>\n",
       "      <td>1502.695820</td>\n",
       "      <td>1255.323224</td>\n",
       "      <td>1262.405942</td>\n",
       "      <td>1508.319102</td>\n",
       "      <td>2839.670139</td>\n",
       "      <td>4272.849867</td>\n",
       "      <td>...</td>\n",
       "      <td>5985.428880</td>\n",
       "      <td>5988.754645</td>\n",
       "      <td>6058.333788</td>\n",
       "      <td>6068.788734</td>\n",
       "      <td>6429.789033</td>\n",
       "      <td>6427.872202</td>\n",
       "      <td>10027.047113</td>\n",
       "      <td>11211.836867</td>\n",
       "      <td>11302.286057</td>\n",
       "      <td>11328.385537</td>\n",
       "    </tr>\n",
       "    <tr>\n",
       "      <th>3</th>\n",
       "      <td>849.458784</td>\n",
       "      <td>837.078549</td>\n",
       "      <td>837.078549</td>\n",
       "      <td>0.000000</td>\n",
       "      <td>719.305584</td>\n",
       "      <td>633.656267</td>\n",
       "      <td>642.600204</td>\n",
       "      <td>966.547104</td>\n",
       "      <td>2155.252086</td>\n",
       "      <td>3571.665887</td>\n",
       "      <td>...</td>\n",
       "      <td>5348.811047</td>\n",
       "      <td>5352.739026</td>\n",
       "      <td>5422.834371</td>\n",
       "      <td>5433.910182</td>\n",
       "      <td>5782.715570</td>\n",
       "      <td>5789.902512</td>\n",
       "      <td>9193.542934</td>\n",
       "      <td>10375.728932</td>\n",
       "      <td>10466.468561</td>\n",
       "      <td>10497.877905</td>\n",
       "    </tr>\n",
       "    <tr>\n",
       "      <th>4</th>\n",
       "      <td>1568.058217</td>\n",
       "      <td>1502.695820</td>\n",
       "      <td>1502.695820</td>\n",
       "      <td>719.305584</td>\n",
       "      <td>0.000000</td>\n",
       "      <td>395.240977</td>\n",
       "      <td>396.239071</td>\n",
       "      <td>576.844330</td>\n",
       "      <td>1455.125892</td>\n",
       "      <td>2857.857941</td>\n",
       "      <td>...</td>\n",
       "      <td>4650.903725</td>\n",
       "      <td>4655.042167</td>\n",
       "      <td>4725.166478</td>\n",
       "      <td>4736.443893</td>\n",
       "      <td>5080.338626</td>\n",
       "      <td>5090.602657</td>\n",
       "      <td>8545.576133</td>\n",
       "      <td>9742.782423</td>\n",
       "      <td>9831.025174</td>\n",
       "      <td>9838.782414</td>\n",
       "    </tr>\n",
       "    <tr>\n",
       "      <th>5</th>\n",
       "      <td>1409.501840</td>\n",
       "      <td>1255.323224</td>\n",
       "      <td>1255.323224</td>\n",
       "      <td>633.656267</td>\n",
       "      <td>395.240977</td>\n",
       "      <td>0.000000</td>\n",
       "      <td>8.945693</td>\n",
       "      <td>335.772308</td>\n",
       "      <td>1587.627489</td>\n",
       "      <td>3020.044803</td>\n",
       "      <td>...</td>\n",
       "      <td>4759.005412</td>\n",
       "      <td>4762.650507</td>\n",
       "      <td>4832.580577</td>\n",
       "      <td>4843.375235</td>\n",
       "      <td>5198.553468</td>\n",
       "      <td>5201.215986</td>\n",
       "      <td>8873.568731</td>\n",
       "      <td>10079.943101</td>\n",
       "      <td>10166.586455</td>\n",
       "      <td>10157.322001</td>\n",
       "    </tr>\n",
       "    <tr>\n",
       "      <th>6</th>\n",
       "      <td>1417.786515</td>\n",
       "      <td>1262.405942</td>\n",
       "      <td>1262.405942</td>\n",
       "      <td>642.600204</td>\n",
       "      <td>396.239071</td>\n",
       "      <td>8.945693</td>\n",
       "      <td>0.000000</td>\n",
       "      <td>326.919297</td>\n",
       "      <td>1580.067569</td>\n",
       "      <td>3012.585464</td>\n",
       "      <td>...</td>\n",
       "      <td>4750.830534</td>\n",
       "      <td>4754.470854</td>\n",
       "      <td>4824.396958</td>\n",
       "      <td>4835.186758</td>\n",
       "      <td>5190.464299</td>\n",
       "      <td>5193.052341</td>\n",
       "      <td>8869.450566</td>\n",
       "      <td>10076.151353</td>\n",
       "      <td>10162.732661</td>\n",
       "      <td>10152.869454</td>\n",
       "    </tr>\n",
       "    <tr>\n",
       "      <th>7</th>\n",
       "      <td>1707.640925</td>\n",
       "      <td>1508.319102</td>\n",
       "      <td>1508.319102</td>\n",
       "      <td>966.547104</td>\n",
       "      <td>576.844330</td>\n",
       "      <td>335.772308</td>\n",
       "      <td>326.919297</td>\n",
       "      <td>0.000000</td>\n",
       "      <td>1349.479948</td>\n",
       "      <td>2777.921208</td>\n",
       "      <td>...</td>\n",
       "      <td>4478.061578</td>\n",
       "      <td>4481.454880</td>\n",
       "      <td>4551.124803</td>\n",
       "      <td>4561.657906</td>\n",
       "      <td>4921.708569</td>\n",
       "      <td>4920.540883</td>\n",
       "      <td>8768.370139</td>\n",
       "      <td>9987.177760</td>\n",
       "      <td>10071.294244</td>\n",
       "      <td>10037.869453</td>\n",
       "    </tr>\n",
       "    <tr>\n",
       "      <th>8</th>\n",
       "      <td>2985.765943</td>\n",
       "      <td>2839.670139</td>\n",
       "      <td>2839.670139</td>\n",
       "      <td>2155.252086</td>\n",
       "      <td>1455.125892</td>\n",
       "      <td>1587.627489</td>\n",
       "      <td>1580.067569</td>\n",
       "      <td>1349.479948</td>\n",
       "      <td>0.000000</td>\n",
       "      <td>1433.182368</td>\n",
       "      <td>...</td>\n",
       "      <td>3196.201796</td>\n",
       "      <td>3200.287687</td>\n",
       "      <td>3270.412784</td>\n",
       "      <td>3281.644289</td>\n",
       "      <td>3627.806437</td>\n",
       "      <td>3636.405329</td>\n",
       "      <td>7545.990505</td>\n",
       "      <td>8785.324230</td>\n",
       "      <td>8864.071568</td>\n",
       "      <td>8785.638996</td>\n",
       "    </tr>\n",
       "    <tr>\n",
       "      <th>9</th>\n",
       "      <td>4411.126016</td>\n",
       "      <td>4272.849867</td>\n",
       "      <td>4272.849867</td>\n",
       "      <td>3571.665887</td>\n",
       "      <td>2857.857941</td>\n",
       "      <td>3020.044803</td>\n",
       "      <td>3012.585464</td>\n",
       "      <td>2777.921208</td>\n",
       "      <td>1433.182368</td>\n",
       "      <td>0.000000</td>\n",
       "      <td>...</td>\n",
       "      <td>1849.279876</td>\n",
       "      <td>1854.483543</td>\n",
       "      <td>1923.265667</td>\n",
       "      <td>1935.393433</td>\n",
       "      <td>2251.001315</td>\n",
       "      <td>2274.670611</td>\n",
       "      <td>6405.665753</td>\n",
       "      <td>7666.896788</td>\n",
       "      <td>7735.955137</td>\n",
       "      <td>7580.801400</td>\n",
       "    </tr>\n",
       "    <tr>\n",
       "      <th>10</th>\n",
       "      <td>4662.599901</td>\n",
       "      <td>4491.424958</td>\n",
       "      <td>4491.424958</td>\n",
       "      <td>3839.439868</td>\n",
       "      <td>3140.494599</td>\n",
       "      <td>3255.220116</td>\n",
       "      <td>3247.181900</td>\n",
       "      <td>2983.272370</td>\n",
       "      <td>1685.828296</td>\n",
       "      <td>470.919090</td>\n",
       "      <td>...</td>\n",
       "      <td>1510.421468</td>\n",
       "      <td>1514.548062</td>\n",
       "      <td>1584.672639</td>\n",
       "      <td>1595.952174</td>\n",
       "      <td>1944.060051</td>\n",
       "      <td>1950.676776</td>\n",
       "      <td>6552.717890</td>\n",
       "      <td>7818.628664</td>\n",
       "      <td>7882.197390</td>\n",
       "      <td>7683.078472</td>\n",
       "    </tr>\n",
       "    <tr>\n",
       "      <th>11</th>\n",
       "      <td>4655.137341</td>\n",
       "      <td>4479.862105</td>\n",
       "      <td>4479.862105</td>\n",
       "      <td>3834.718158</td>\n",
       "      <td>3138.508800</td>\n",
       "      <td>3246.825243</td>\n",
       "      <td>3238.723328</td>\n",
       "      <td>2971.543101</td>\n",
       "      <td>1683.384686</td>\n",
       "      <td>511.936386</td>\n",
       "      <td>...</td>\n",
       "      <td>1514.111490</td>\n",
       "      <td>1518.022696</td>\n",
       "      <td>1588.116340</td>\n",
       "      <td>1599.198142</td>\n",
       "      <td>1951.783197</td>\n",
       "      <td>1955.543586</td>\n",
       "      <td>6601.167422</td>\n",
       "      <td>7867.187056</td>\n",
       "      <td>7930.452531</td>\n",
       "      <td>7728.764206</td>\n",
       "    </tr>\n",
       "    <tr>\n",
       "      <th>12</th>\n",
       "      <td>4735.845799</td>\n",
       "      <td>4533.965787</td>\n",
       "      <td>4533.965787</td>\n",
       "      <td>3936.319890</td>\n",
       "      <td>3261.151073</td>\n",
       "      <td>3328.041075</td>\n",
       "      <td>3319.577822</td>\n",
       "      <td>3032.764053</td>\n",
       "      <td>1820.652343</td>\n",
       "      <td>861.478048</td>\n",
       "      <td>...</td>\n",
       "      <td>1473.462598</td>\n",
       "      <td>1475.799293</td>\n",
       "      <td>1543.454189</td>\n",
       "      <td>1552.876101</td>\n",
       "      <td>1926.916154</td>\n",
       "      <td>1911.374836</td>\n",
       "      <td>6863.377281</td>\n",
       "      <td>8129.683080</td>\n",
       "      <td>8189.845199</td>\n",
       "      <td>7963.479262</td>\n",
       "    </tr>\n",
       "    <tr>\n",
       "      <th>13</th>\n",
       "      <td>5212.245307</td>\n",
       "      <td>4989.217780</td>\n",
       "      <td>4989.217780</td>\n",
       "      <td>4431.889053</td>\n",
       "      <td>3774.049924</td>\n",
       "      <td>3812.556143</td>\n",
       "      <td>3803.888943</td>\n",
       "      <td>3504.606524</td>\n",
       "      <td>2353.133843</td>\n",
       "      <td>1378.776219</td>\n",
       "      <td>...</td>\n",
       "      <td>1185.770571</td>\n",
       "      <td>1185.499126</td>\n",
       "      <td>1242.545998</td>\n",
       "      <td>1248.613449</td>\n",
       "      <td>1625.176035</td>\n",
       "      <td>1583.315721</td>\n",
       "      <td>6943.944424</td>\n",
       "      <td>8205.795266</td>\n",
       "      <td>8259.061540</td>\n",
       "      <td>7982.552747</td>\n",
       "    </tr>\n",
       "    <tr>\n",
       "      <th>14</th>\n",
       "      <td>5211.058235</td>\n",
       "      <td>4989.816169</td>\n",
       "      <td>4989.816169</td>\n",
       "      <td>4428.747795</td>\n",
       "      <td>3768.934531</td>\n",
       "      <td>3810.346420</td>\n",
       "      <td>3801.695845</td>\n",
       "      <td>3503.438844</td>\n",
       "      <td>2345.182374</td>\n",
       "      <td>1357.060507</td>\n",
       "      <td>...</td>\n",
       "      <td>1168.814936</td>\n",
       "      <td>1168.682832</td>\n",
       "      <td>1226.496909</td>\n",
       "      <td>1232.771485</td>\n",
       "      <td>1610.097211</td>\n",
       "      <td>1569.684560</td>\n",
       "      <td>6917.804648</td>\n",
       "      <td>8179.809055</td>\n",
       "      <td>8233.216922</td>\n",
       "      <td>7957.817825</td>\n",
       "    </tr>\n",
       "    <tr>\n",
       "      <th>15</th>\n",
       "      <td>5217.612516</td>\n",
       "      <td>4998.108013</td>\n",
       "      <td>4998.108013</td>\n",
       "      <td>4433.397863</td>\n",
       "      <td>3771.626660</td>\n",
       "      <td>3815.949965</td>\n",
       "      <td>3807.316279</td>\n",
       "      <td>3510.084155</td>\n",
       "      <td>2345.071802</td>\n",
       "      <td>1341.219767</td>\n",
       "      <td>...</td>\n",
       "      <td>1146.640605</td>\n",
       "      <td>1146.619960</td>\n",
       "      <td>1205.037626</td>\n",
       "      <td>1211.479147</td>\n",
       "      <td>1589.351061</td>\n",
       "      <td>1550.149303</td>\n",
       "      <td>6889.611023</td>\n",
       "      <td>8151.666018</td>\n",
       "      <td>8205.124298</td>\n",
       "      <td>7930.205851</td>\n",
       "    </tr>\n",
       "    <tr>\n",
       "      <th>16</th>\n",
       "      <td>5267.029830</td>\n",
       "      <td>5056.990416</td>\n",
       "      <td>5056.990416</td>\n",
       "      <td>4472.952906</td>\n",
       "      <td>3801.059922</td>\n",
       "      <td>3861.168636</td>\n",
       "      <td>3852.634187</td>\n",
       "      <td>3561.218747</td>\n",
       "      <td>2361.432669</td>\n",
       "      <td>1270.844596</td>\n",
       "      <td>...</td>\n",
       "      <td>1021.555683</td>\n",
       "      <td>1022.184119</td>\n",
       "      <td>1083.835228</td>\n",
       "      <td>1091.214689</td>\n",
       "      <td>1470.853957</td>\n",
       "      <td>1438.622424</td>\n",
       "      <td>6731.751939</td>\n",
       "      <td>7993.941208</td>\n",
       "      <td>8047.548783</td>\n",
       "      <td>7774.406664</td>\n",
       "    </tr>\n",
       "    <tr>\n",
       "      <th>17</th>\n",
       "      <td>5632.706854</td>\n",
       "      <td>5442.358936</td>\n",
       "      <td>5442.358936</td>\n",
       "      <td>4820.326781</td>\n",
       "      <td>4129.573383</td>\n",
       "      <td>4223.208454</td>\n",
       "      <td>4214.920553</td>\n",
       "      <td>3936.731283</td>\n",
       "      <td>2675.065095</td>\n",
       "      <td>1395.812772</td>\n",
       "      <td>...</td>\n",
       "      <td>555.027403</td>\n",
       "      <td>557.061241</td>\n",
       "      <td>624.165687</td>\n",
       "      <td>633.473242</td>\n",
       "      <td>1009.195421</td>\n",
       "      <td>991.994430</td>\n",
       "      <td>6290.063107</td>\n",
       "      <td>7548.739257</td>\n",
       "      <td>7599.688932</td>\n",
       "      <td>7310.228665</td>\n",
       "    </tr>\n",
       "    <tr>\n",
       "      <th>18</th>\n",
       "      <td>5658.730389</td>\n",
       "      <td>5470.510313</td>\n",
       "      <td>5470.510313</td>\n",
       "      <td>4844.663582</td>\n",
       "      <td>4152.273902</td>\n",
       "      <td>4249.246215</td>\n",
       "      <td>4240.986664</td>\n",
       "      <td>3964.265564</td>\n",
       "      <td>2697.379880</td>\n",
       "      <td>1404.791572</td>\n",
       "      <td>...</td>\n",
       "      <td>521.038801</td>\n",
       "      <td>523.430019</td>\n",
       "      <td>591.469638</td>\n",
       "      <td>601.174893</td>\n",
       "      <td>974.658346</td>\n",
       "      <td>960.450575</td>\n",
       "      <td>6247.259290</td>\n",
       "      <td>7505.749839</td>\n",
       "      <td>7556.583834</td>\n",
       "      <td>7266.551015</td>\n",
       "    </tr>\n",
       "    <tr>\n",
       "      <th>19</th>\n",
       "      <td>5815.282539</td>\n",
       "      <td>5601.428460</td>\n",
       "      <td>5601.428460</td>\n",
       "      <td>5022.988244</td>\n",
       "      <td>4350.956783</td>\n",
       "      <td>4410.322076</td>\n",
       "      <td>4401.765679</td>\n",
       "      <td>4108.707173</td>\n",
       "      <td>2909.105019</td>\n",
       "      <td>1740.989156</td>\n",
       "      <td>...</td>\n",
       "      <td>658.417307</td>\n",
       "      <td>655.456413</td>\n",
       "      <td>694.770815</td>\n",
       "      <td>696.996972</td>\n",
       "      <td>1050.004981</td>\n",
       "      <td>991.978708</td>\n",
       "      <td>6591.209870</td>\n",
       "      <td>7842.521118</td>\n",
       "      <td>7889.152386</td>\n",
       "      <td>7568.971464</td>\n",
       "    </tr>\n",
       "    <tr>\n",
       "      <th>20</th>\n",
       "      <td>6168.025831</td>\n",
       "      <td>5985.428880</td>\n",
       "      <td>5985.428880</td>\n",
       "      <td>5348.811047</td>\n",
       "      <td>4650.903725</td>\n",
       "      <td>4759.005412</td>\n",
       "      <td>4750.830534</td>\n",
       "      <td>4478.061578</td>\n",
       "      <td>3196.201796</td>\n",
       "      <td>1849.279876</td>\n",
       "      <td>...</td>\n",
       "      <td>0.000000</td>\n",
       "      <td>7.243023</td>\n",
       "      <td>74.473588</td>\n",
       "      <td>86.268858</td>\n",
       "      <td>454.209375</td>\n",
       "      <td>442.481437</td>\n",
       "      <td>5950.383816</td>\n",
       "      <td>7197.412795</td>\n",
       "      <td>7242.239690</td>\n",
       "      <td>6913.402197</td>\n",
       "    </tr>\n",
       "    <tr>\n",
       "      <th>21</th>\n",
       "      <td>6171.712447</td>\n",
       "      <td>5988.754645</td>\n",
       "      <td>5988.754645</td>\n",
       "      <td>5352.739026</td>\n",
       "      <td>4655.042167</td>\n",
       "      <td>4762.650507</td>\n",
       "      <td>4754.470854</td>\n",
       "      <td>4481.454880</td>\n",
       "      <td>3200.287687</td>\n",
       "      <td>1854.483543</td>\n",
       "      <td>...</td>\n",
       "      <td>7.243023</td>\n",
       "      <td>0.000000</td>\n",
       "      <td>70.125391</td>\n",
       "      <td>81.567350</td>\n",
       "      <td>452.400269</td>\n",
       "      <td>439.118397</td>\n",
       "      <td>5954.885546</td>\n",
       "      <td>7201.720380</td>\n",
       "      <td>7246.460244</td>\n",
       "      <td>6917.026093</td>\n",
       "    </tr>\n",
       "    <tr>\n",
       "      <th>22</th>\n",
       "      <td>6241.674245</td>\n",
       "      <td>6058.333788</td>\n",
       "      <td>6058.333788</td>\n",
       "      <td>5422.834371</td>\n",
       "      <td>4725.166478</td>\n",
       "      <td>4832.580577</td>\n",
       "      <td>4824.396958</td>\n",
       "      <td>4551.124803</td>\n",
       "      <td>3270.412784</td>\n",
       "      <td>1923.265667</td>\n",
       "      <td>...</td>\n",
       "      <td>74.473588</td>\n",
       "      <td>70.125391</td>\n",
       "      <td>0.000000</td>\n",
       "      <td>12.603257</td>\n",
       "      <td>387.515633</td>\n",
       "      <td>369.671376</td>\n",
       "      <td>5934.781711</td>\n",
       "      <td>7179.286531</td>\n",
       "      <td>7223.037941</td>\n",
       "      <td>6887.249016</td>\n",
       "    </tr>\n",
       "    <tr>\n",
       "      <th>23</th>\n",
       "      <td>6252.507861</td>\n",
       "      <td>6068.788734</td>\n",
       "      <td>6068.788734</td>\n",
       "      <td>5433.910182</td>\n",
       "      <td>4736.443893</td>\n",
       "      <td>4843.375235</td>\n",
       "      <td>4835.186758</td>\n",
       "      <td>4561.657906</td>\n",
       "      <td>3281.644289</td>\n",
       "      <td>1935.393433</td>\n",
       "      <td>...</td>\n",
       "      <td>86.268858</td>\n",
       "      <td>81.567350</td>\n",
       "      <td>12.603257</td>\n",
       "      <td>0.000000</td>\n",
       "      <td>379.719036</td>\n",
       "      <td>359.493839</td>\n",
       "      <td>5937.098154</td>\n",
       "      <td>7181.154603</td>\n",
       "      <td>7224.719216</td>\n",
       "      <td>6887.701157</td>\n",
       "    </tr>\n",
       "    <tr>\n",
       "      <th>24</th>\n",
       "      <td>6606.511503</td>\n",
       "      <td>6429.789033</td>\n",
       "      <td>6429.789033</td>\n",
       "      <td>5782.715570</td>\n",
       "      <td>5080.338626</td>\n",
       "      <td>5198.553468</td>\n",
       "      <td>5190.464299</td>\n",
       "      <td>4921.708569</td>\n",
       "      <td>3627.806437</td>\n",
       "      <td>2251.001315</td>\n",
       "      <td>...</td>\n",
       "      <td>454.209375</td>\n",
       "      <td>452.400269</td>\n",
       "      <td>387.515633</td>\n",
       "      <td>379.719036</td>\n",
       "      <td>0.000000</td>\n",
       "      <td>103.527566</td>\n",
       "      <td>5690.649495</td>\n",
       "      <td>6922.995746</td>\n",
       "      <td>6962.311159</td>\n",
       "      <td>6599.475645</td>\n",
       "    </tr>\n",
       "    <tr>\n",
       "      <th>25</th>\n",
       "      <td>6610.118833</td>\n",
       "      <td>6427.872202</td>\n",
       "      <td>6427.872202</td>\n",
       "      <td>5789.902512</td>\n",
       "      <td>5090.602657</td>\n",
       "      <td>5201.215986</td>\n",
       "      <td>5193.052341</td>\n",
       "      <td>4920.540883</td>\n",
       "      <td>3636.405329</td>\n",
       "      <td>2274.670611</td>\n",
       "      <td>...</td>\n",
       "      <td>442.481437</td>\n",
       "      <td>439.118397</td>\n",
       "      <td>369.671376</td>\n",
       "      <td>359.493839</td>\n",
       "      <td>103.527566</td>\n",
       "      <td>0.000000</td>\n",
       "      <td>5788.057540</td>\n",
       "      <td>7018.661324</td>\n",
       "      <td>7057.344580</td>\n",
       "      <td>6689.982479</td>\n",
       "    </tr>\n",
       "    <tr>\n",
       "      <th>26</th>\n",
       "      <td>9989.781209</td>\n",
       "      <td>10027.047113</td>\n",
       "      <td>10027.047113</td>\n",
       "      <td>9193.542934</td>\n",
       "      <td>8545.576133</td>\n",
       "      <td>8873.568731</td>\n",
       "      <td>8869.450566</td>\n",
       "      <td>8768.370139</td>\n",
       "      <td>7545.990505</td>\n",
       "      <td>6405.665753</td>\n",
       "      <td>...</td>\n",
       "      <td>5950.383816</td>\n",
       "      <td>5954.885546</td>\n",
       "      <td>5934.781711</td>\n",
       "      <td>5937.098154</td>\n",
       "      <td>5690.649495</td>\n",
       "      <td>5788.057540</td>\n",
       "      <td>0.000000</td>\n",
       "      <td>1266.375910</td>\n",
       "      <td>1330.605228</td>\n",
       "      <td>1345.726333</td>\n",
       "    </tr>\n",
       "    <tr>\n",
       "      <th>27</th>\n",
       "      <td>11157.345415</td>\n",
       "      <td>11211.836867</td>\n",
       "      <td>11211.836867</td>\n",
       "      <td>10375.728932</td>\n",
       "      <td>9742.782423</td>\n",
       "      <td>10079.943101</td>\n",
       "      <td>10076.151353</td>\n",
       "      <td>9987.177760</td>\n",
       "      <td>8785.324230</td>\n",
       "      <td>7666.896788</td>\n",
       "      <td>...</td>\n",
       "      <td>7197.412795</td>\n",
       "      <td>7201.720380</td>\n",
       "      <td>7179.286531</td>\n",
       "      <td>7181.154603</td>\n",
       "      <td>6922.995746</td>\n",
       "      <td>7018.661324</td>\n",
       "      <td>1266.375910</td>\n",
       "      <td>0.000000</td>\n",
       "      <td>116.321684</td>\n",
       "      <td>845.719087</td>\n",
       "    </tr>\n",
       "    <tr>\n",
       "      <th>28</th>\n",
       "      <td>11250.265670</td>\n",
       "      <td>11302.286057</td>\n",
       "      <td>11302.286057</td>\n",
       "      <td>10466.468561</td>\n",
       "      <td>9831.025174</td>\n",
       "      <td>10166.586455</td>\n",
       "      <td>10162.732661</td>\n",
       "      <td>10071.294244</td>\n",
       "      <td>8864.071568</td>\n",
       "      <td>7735.955137</td>\n",
       "      <td>...</td>\n",
       "      <td>7242.239690</td>\n",
       "      <td>7246.460244</td>\n",
       "      <td>7223.037941</td>\n",
       "      <td>7224.719216</td>\n",
       "      <td>6962.311159</td>\n",
       "      <td>7057.344580</td>\n",
       "      <td>1330.605228</td>\n",
       "      <td>116.321684</td>\n",
       "      <td>0.000000</td>\n",
       "      <td>767.991084</td>\n",
       "    </tr>\n",
       "    <tr>\n",
       "      <th>29</th>\n",
       "      <td>11302.809117</td>\n",
       "      <td>11328.385537</td>\n",
       "      <td>11328.385537</td>\n",
       "      <td>10497.877905</td>\n",
       "      <td>9838.782414</td>\n",
       "      <td>10157.322001</td>\n",
       "      <td>10152.869454</td>\n",
       "      <td>10037.869453</td>\n",
       "      <td>8785.638996</td>\n",
       "      <td>7580.801400</td>\n",
       "      <td>...</td>\n",
       "      <td>6913.402197</td>\n",
       "      <td>6917.026093</td>\n",
       "      <td>6887.249016</td>\n",
       "      <td>6887.701157</td>\n",
       "      <td>6599.475645</td>\n",
       "      <td>6689.982479</td>\n",
       "      <td>1345.726333</td>\n",
       "      <td>845.719087</td>\n",
       "      <td>767.991084</td>\n",
       "      <td>0.000000</td>\n",
       "    </tr>\n",
       "  </tbody>\n",
       "</table>\n",
       "<p>30 rows × 30 columns</p>\n",
       "</div>"
      ],
      "text/plain": [
       "              0             1             2             3            4   \\\n",
       "0       0.000000    391.388840    391.388840    849.458784  1568.058217   \n",
       "1     391.388840      0.000000      0.000000    837.078549  1502.695820   \n",
       "2     391.388840      0.000000      0.000000    837.078549  1502.695820   \n",
       "3     849.458784    837.078549    837.078549      0.000000   719.305584   \n",
       "4    1568.058217   1502.695820   1502.695820    719.305584     0.000000   \n",
       "5    1409.501840   1255.323224   1255.323224    633.656267   395.240977   \n",
       "6    1417.786515   1262.405942   1262.405942    642.600204   396.239071   \n",
       "7    1707.640925   1508.319102   1508.319102    966.547104   576.844330   \n",
       "8    2985.765943   2839.670139   2839.670139   2155.252086  1455.125892   \n",
       "9    4411.126016   4272.849867   4272.849867   3571.665887  2857.857941   \n",
       "10   4662.599901   4491.424958   4491.424958   3839.439868  3140.494599   \n",
       "11   4655.137341   4479.862105   4479.862105   3834.718158  3138.508800   \n",
       "12   4735.845799   4533.965787   4533.965787   3936.319890  3261.151073   \n",
       "13   5212.245307   4989.217780   4989.217780   4431.889053  3774.049924   \n",
       "14   5211.058235   4989.816169   4989.816169   4428.747795  3768.934531   \n",
       "15   5217.612516   4998.108013   4998.108013   4433.397863  3771.626660   \n",
       "16   5267.029830   5056.990416   5056.990416   4472.952906  3801.059922   \n",
       "17   5632.706854   5442.358936   5442.358936   4820.326781  4129.573383   \n",
       "18   5658.730389   5470.510313   5470.510313   4844.663582  4152.273902   \n",
       "19   5815.282539   5601.428460   5601.428460   5022.988244  4350.956783   \n",
       "20   6168.025831   5985.428880   5985.428880   5348.811047  4650.903725   \n",
       "21   6171.712447   5988.754645   5988.754645   5352.739026  4655.042167   \n",
       "22   6241.674245   6058.333788   6058.333788   5422.834371  4725.166478   \n",
       "23   6252.507861   6068.788734   6068.788734   5433.910182  4736.443893   \n",
       "24   6606.511503   6429.789033   6429.789033   5782.715570  5080.338626   \n",
       "25   6610.118833   6427.872202   6427.872202   5789.902512  5090.602657   \n",
       "26   9989.781209  10027.047113  10027.047113   9193.542934  8545.576133   \n",
       "27  11157.345415  11211.836867  11211.836867  10375.728932  9742.782423   \n",
       "28  11250.265670  11302.286057  11302.286057  10466.468561  9831.025174   \n",
       "29  11302.809117  11328.385537  11328.385537  10497.877905  9838.782414   \n",
       "\n",
       "              5             6             7            8            9   ...  \\\n",
       "0    1409.501840   1417.786515   1707.640925  2985.765943  4411.126016  ...   \n",
       "1    1255.323224   1262.405942   1508.319102  2839.670139  4272.849867  ...   \n",
       "2    1255.323224   1262.405942   1508.319102  2839.670139  4272.849867  ...   \n",
       "3     633.656267    642.600204    966.547104  2155.252086  3571.665887  ...   \n",
       "4     395.240977    396.239071    576.844330  1455.125892  2857.857941  ...   \n",
       "5       0.000000      8.945693    335.772308  1587.627489  3020.044803  ...   \n",
       "6       8.945693      0.000000    326.919297  1580.067569  3012.585464  ...   \n",
       "7     335.772308    326.919297      0.000000  1349.479948  2777.921208  ...   \n",
       "8    1587.627489   1580.067569   1349.479948     0.000000  1433.182368  ...   \n",
       "9    3020.044803   3012.585464   2777.921208  1433.182368     0.000000  ...   \n",
       "10   3255.220116   3247.181900   2983.272370  1685.828296   470.919090  ...   \n",
       "11   3246.825243   3238.723328   2971.543101  1683.384686   511.936386  ...   \n",
       "12   3328.041075   3319.577822   3032.764053  1820.652343   861.478048  ...   \n",
       "13   3812.556143   3803.888943   3504.606524  2353.133843  1378.776219  ...   \n",
       "14   3810.346420   3801.695845   3503.438844  2345.182374  1357.060507  ...   \n",
       "15   3815.949965   3807.316279   3510.084155  2345.071802  1341.219767  ...   \n",
       "16   3861.168636   3852.634187   3561.218747  2361.432669  1270.844596  ...   \n",
       "17   4223.208454   4214.920553   3936.731283  2675.065095  1395.812772  ...   \n",
       "18   4249.246215   4240.986664   3964.265564  2697.379880  1404.791572  ...   \n",
       "19   4410.322076   4401.765679   4108.707173  2909.105019  1740.989156  ...   \n",
       "20   4759.005412   4750.830534   4478.061578  3196.201796  1849.279876  ...   \n",
       "21   4762.650507   4754.470854   4481.454880  3200.287687  1854.483543  ...   \n",
       "22   4832.580577   4824.396958   4551.124803  3270.412784  1923.265667  ...   \n",
       "23   4843.375235   4835.186758   4561.657906  3281.644289  1935.393433  ...   \n",
       "24   5198.553468   5190.464299   4921.708569  3627.806437  2251.001315  ...   \n",
       "25   5201.215986   5193.052341   4920.540883  3636.405329  2274.670611  ...   \n",
       "26   8873.568731   8869.450566   8768.370139  7545.990505  6405.665753  ...   \n",
       "27  10079.943101  10076.151353   9987.177760  8785.324230  7666.896788  ...   \n",
       "28  10166.586455  10162.732661  10071.294244  8864.071568  7735.955137  ...   \n",
       "29  10157.322001  10152.869454  10037.869453  8785.638996  7580.801400  ...   \n",
       "\n",
       "             20           21           22           23           24  \\\n",
       "0   6168.025831  6171.712447  6241.674245  6252.507861  6606.511503   \n",
       "1   5985.428880  5988.754645  6058.333788  6068.788734  6429.789033   \n",
       "2   5985.428880  5988.754645  6058.333788  6068.788734  6429.789033   \n",
       "3   5348.811047  5352.739026  5422.834371  5433.910182  5782.715570   \n",
       "4   4650.903725  4655.042167  4725.166478  4736.443893  5080.338626   \n",
       "5   4759.005412  4762.650507  4832.580577  4843.375235  5198.553468   \n",
       "6   4750.830534  4754.470854  4824.396958  4835.186758  5190.464299   \n",
       "7   4478.061578  4481.454880  4551.124803  4561.657906  4921.708569   \n",
       "8   3196.201796  3200.287687  3270.412784  3281.644289  3627.806437   \n",
       "9   1849.279876  1854.483543  1923.265667  1935.393433  2251.001315   \n",
       "10  1510.421468  1514.548062  1584.672639  1595.952174  1944.060051   \n",
       "11  1514.111490  1518.022696  1588.116340  1599.198142  1951.783197   \n",
       "12  1473.462598  1475.799293  1543.454189  1552.876101  1926.916154   \n",
       "13  1185.770571  1185.499126  1242.545998  1248.613449  1625.176035   \n",
       "14  1168.814936  1168.682832  1226.496909  1232.771485  1610.097211   \n",
       "15  1146.640605  1146.619960  1205.037626  1211.479147  1589.351061   \n",
       "16  1021.555683  1022.184119  1083.835228  1091.214689  1470.853957   \n",
       "17   555.027403   557.061241   624.165687   633.473242  1009.195421   \n",
       "18   521.038801   523.430019   591.469638   601.174893   974.658346   \n",
       "19   658.417307   655.456413   694.770815   696.996972  1050.004981   \n",
       "20     0.000000     7.243023    74.473588    86.268858   454.209375   \n",
       "21     7.243023     0.000000    70.125391    81.567350   452.400269   \n",
       "22    74.473588    70.125391     0.000000    12.603257   387.515633   \n",
       "23    86.268858    81.567350    12.603257     0.000000   379.719036   \n",
       "24   454.209375   452.400269   387.515633   379.719036     0.000000   \n",
       "25   442.481437   439.118397   369.671376   359.493839   103.527566   \n",
       "26  5950.383816  5954.885546  5934.781711  5937.098154  5690.649495   \n",
       "27  7197.412795  7201.720380  7179.286531  7181.154603  6922.995746   \n",
       "28  7242.239690  7246.460244  7223.037941  7224.719216  6962.311159   \n",
       "29  6913.402197  6917.026093  6887.249016  6887.701157  6599.475645   \n",
       "\n",
       "             25            26            27            28            29  \n",
       "0   6610.118833   9989.781209  11157.345415  11250.265670  11302.809117  \n",
       "1   6427.872202  10027.047113  11211.836867  11302.286057  11328.385537  \n",
       "2   6427.872202  10027.047113  11211.836867  11302.286057  11328.385537  \n",
       "3   5789.902512   9193.542934  10375.728932  10466.468561  10497.877905  \n",
       "4   5090.602657   8545.576133   9742.782423   9831.025174   9838.782414  \n",
       "5   5201.215986   8873.568731  10079.943101  10166.586455  10157.322001  \n",
       "6   5193.052341   8869.450566  10076.151353  10162.732661  10152.869454  \n",
       "7   4920.540883   8768.370139   9987.177760  10071.294244  10037.869453  \n",
       "8   3636.405329   7545.990505   8785.324230   8864.071568   8785.638996  \n",
       "9   2274.670611   6405.665753   7666.896788   7735.955137   7580.801400  \n",
       "10  1950.676776   6552.717890   7818.628664   7882.197390   7683.078472  \n",
       "11  1955.543586   6601.167422   7867.187056   7930.452531   7728.764206  \n",
       "12  1911.374836   6863.377281   8129.683080   8189.845199   7963.479262  \n",
       "13  1583.315721   6943.944424   8205.795266   8259.061540   7982.552747  \n",
       "14  1569.684560   6917.804648   8179.809055   8233.216922   7957.817825  \n",
       "15  1550.149303   6889.611023   8151.666018   8205.124298   7930.205851  \n",
       "16  1438.622424   6731.751939   7993.941208   8047.548783   7774.406664  \n",
       "17   991.994430   6290.063107   7548.739257   7599.688932   7310.228665  \n",
       "18   960.450575   6247.259290   7505.749839   7556.583834   7266.551015  \n",
       "19   991.978708   6591.209870   7842.521118   7889.152386   7568.971464  \n",
       "20   442.481437   5950.383816   7197.412795   7242.239690   6913.402197  \n",
       "21   439.118397   5954.885546   7201.720380   7246.460244   6917.026093  \n",
       "22   369.671376   5934.781711   7179.286531   7223.037941   6887.249016  \n",
       "23   359.493839   5937.098154   7181.154603   7224.719216   6887.701157  \n",
       "24   103.527566   5690.649495   6922.995746   6962.311159   6599.475645  \n",
       "25     0.000000   5788.057540   7018.661324   7057.344580   6689.982479  \n",
       "26  5788.057540      0.000000   1266.375910   1330.605228   1345.726333  \n",
       "27  7018.661324   1266.375910      0.000000    116.321684    845.719087  \n",
       "28  7057.344580   1330.605228    116.321684      0.000000    767.991084  \n",
       "29  6689.982479   1345.726333    845.719087    767.991084      0.000000  \n",
       "\n",
       "[30 rows x 30 columns]"
      ]
     },
     "execution_count": 47,
     "metadata": {},
     "output_type": "execute_result"
    }
   ],
   "source": [
    "pd.DataFrame(dist_matrix(coor))"
   ]
  }
 ],
 "metadata": {
  "kernelspec": {
   "display_name": "Python 3",
   "language": "python",
   "name": "python3"
  },
  "language_info": {
   "codemirror_mode": {
    "name": "ipython",
    "version": 3
   },
   "file_extension": ".py",
   "mimetype": "text/x-python",
   "name": "python",
   "nbconvert_exporter": "python",
   "pygments_lexer": "ipython3",
   "version": "3.7.0"
  }
 },
 "nbformat": 4,
 "nbformat_minor": 2
}
