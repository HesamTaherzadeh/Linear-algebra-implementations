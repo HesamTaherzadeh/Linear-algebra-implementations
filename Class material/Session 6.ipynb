{
 "cells": [
  {
   "cell_type": "markdown",
   "metadata": {},
   "source": [
    "![knlogo](https://wp.kntu.ac.ir/aliakbarian/ode/images/logo.png)"
   ]
  },
  {
   "cell_type": "markdown",
   "metadata": {},
   "source": [
    "<h1 style=\"color:Gray\"> A Crash course on Python programming scientific-algebric inclined</h1>\n",
    "<h2 style=\"color:Gray font'Serif'\"> Linear Algebra </h2>\n",
    "<h2 style=\"color:Gray\"> Dr. Mohammadreza Malek </h2>\n",
    "<h3 style=\"color:Gray\"> Amirhesam Taherzadegani </h3>\n",
    "<h4 style=\"color:Gray\"> Geomatics engineering and geodesy faculty , KNTU </h4>"
   ]
  },
  {
   "cell_type": "code",
   "execution_count": 1,
   "metadata": {},
   "outputs": [],
   "source": [
    "import numpy as np # numerical python\n",
    "import sympy as sp # symbolic python"
   ]
  },
  {
   "cell_type": "markdown",
   "metadata": {},
   "source": [
    "## Transpose"
   ]
  },
  {
   "cell_type": "markdown",
   "metadata": {},
   "source": [
    "## $ A^{T}_{i,j} = A_{j,i} $"
   ]
  },
  {
   "cell_type": "code",
   "execution_count": 2,
   "metadata": {},
   "outputs": [],
   "source": [
    "m1 = np.array([[1, 2, 3],\n",
    "              [3, 4, 5],\n",
    "              [6, 7, 8]])"
   ]
  },
  {
   "cell_type": "code",
   "execution_count": 3,
   "metadata": {},
   "outputs": [
    {
     "data": {
      "text/plain": [
       "array([[1, 3, 6],\n",
       "       [2, 4, 7],\n",
       "       [3, 5, 8]])"
      ]
     },
     "execution_count": 3,
     "metadata": {},
     "output_type": "execute_result"
    }
   ],
   "source": [
    "m1transpose = m1.T\n",
    "m1transpose"
   ]
  },
  {
   "cell_type": "markdown",
   "metadata": {},
   "source": [
    "## $(A + B)^T = A^T + B^T$"
   ]
  },
  {
   "cell_type": "code",
   "execution_count": 4,
   "metadata": {},
   "outputs": [],
   "source": [
    "A = np.random.randint(1, 10, (3, 3))\n",
    "B = np.random.randint(1, 10, (3, 3))"
   ]
  },
  {
   "cell_type": "code",
   "execution_count": 5,
   "metadata": {},
   "outputs": [],
   "source": [
    "assert np.all(A.T + B.T == (A + B).T) # the properties upholds"
   ]
  },
  {
   "cell_type": "markdown",
   "metadata": {},
   "source": [
    "## Trace"
   ]
  },
  {
   "cell_type": "markdown",
   "metadata": {},
   "source": [
    "## $ Trace(A) = \\sum^n_{i=0} a_{ii}$"
   ]
  },
  {
   "cell_type": "code",
   "execution_count": 6,
   "metadata": {},
   "outputs": [
    {
     "data": {
      "text/plain": [
       "array([[6, 9, 7],\n",
       "       [7, 1, 9],\n",
       "       [2, 1, 5]])"
      ]
     },
     "execution_count": 6,
     "metadata": {},
     "output_type": "execute_result"
    }
   ],
   "source": [
    "A"
   ]
  },
  {
   "cell_type": "code",
   "execution_count": 7,
   "metadata": {},
   "outputs": [
    {
     "data": {
      "text/plain": [
       "12"
      ]
     },
     "execution_count": 7,
     "metadata": {},
     "output_type": "execute_result"
    }
   ],
   "source": [
    "result = 0\n",
    "for i in range(A.shape[0]):\n",
    "    result += A[i, i]\n",
    "result"
   ]
  },
  {
   "cell_type": "code",
   "execution_count": 8,
   "metadata": {},
   "outputs": [
    {
     "data": {
      "text/plain": [
       "12"
      ]
     },
     "execution_count": 8,
     "metadata": {},
     "output_type": "execute_result"
    }
   ],
   "source": [
    "np.trace(A)"
   ]
  },
  {
   "cell_type": "markdown",
   "metadata": {},
   "source": [
    "## Decomposition of a matrix to sum of a symmetric and a skew-symmetric matrix"
   ]
  },
  {
   "cell_type": "markdown",
   "metadata": {},
   "source": [
    "## $M = \\frac{A + A^T}{2},N = \\frac{A - A^T}{2} \\to A = M + N$"
   ]
  },
  {
   "cell_type": "markdown",
   "metadata": {},
   "source": [
    "## $\\text{for a matrix to be symmetric, following should uphold: } A^T = A$\n",
    "## $\\text{for a matrix to be skew symmetric, following should uphold: } A^T = -A$"
   ]
  },
  {
   "cell_type": "code",
   "execution_count": 9,
   "metadata": {},
   "outputs": [],
   "source": [
    "def decompose(A):\n",
    "    m, n = 0.5 * (A + A.T), 0.5 * (A - A.T)\n",
    "    return m, n"
   ]
  },
  {
   "cell_type": "code",
   "execution_count": 10,
   "metadata": {},
   "outputs": [
    {
     "name": "stdout",
     "output_type": "stream",
     "text": [
      "m: sym\n"
     ]
    },
    {
     "data": {
      "text/latex": [
       "$\\displaystyle \\left[\\begin{matrix}6.0 & 8.0 & 4.5\\\\8.0 & 1.0 & 5.0\\\\4.5 & 5.0 & 5.0\\end{matrix}\\right]$"
      ],
      "text/plain": [
       "Matrix([\n",
       "[6.0, 8.0, 4.5],\n",
       "[8.0, 1.0, 5.0],\n",
       "[4.5, 5.0, 5.0]])"
      ]
     },
     "metadata": {},
     "output_type": "display_data"
    },
    {
     "name": "stdout",
     "output_type": "stream",
     "text": [
      "********************\n",
      "n: skew-sym\n"
     ]
    },
    {
     "data": {
      "text/latex": [
       "$\\displaystyle \\left[\\begin{matrix}0.0 & 1.0 & 2.5\\\\-1.0 & 0.0 & 4.0\\\\-2.5 & -4.0 & 0.0\\end{matrix}\\right]$"
      ],
      "text/plain": [
       "Matrix([\n",
       "[ 0.0,  1.0, 2.5],\n",
       "[-1.0,  0.0, 4.0],\n",
       "[-2.5, -4.0, 0.0]])"
      ]
     },
     "metadata": {},
     "output_type": "display_data"
    },
    {
     "name": "stdout",
     "output_type": "stream",
     "text": [
      "********************\n"
     ]
    },
    {
     "data": {
      "text/latex": [
       "$\\displaystyle \\left[\\begin{matrix}6 & 9 & 7\\\\7 & 1 & 9\\\\2 & 1 & 5\\end{matrix}\\right]$"
      ],
      "text/plain": [
       "Matrix([\n",
       "[6, 9, 7],\n",
       "[7, 1, 9],\n",
       "[2, 1, 5]])"
      ]
     },
     "metadata": {},
     "output_type": "display_data"
    }
   ],
   "source": [
    "m, n = decompose(A)\n",
    "print(\"m: sym\")\n",
    "display(sp.Matrix(m))\n",
    "print(\"*\"*20)\n",
    "print(\"n: skew-sym\")\n",
    "display(sp.Matrix(n))\n",
    "print(\"*\"*20)\n",
    "display(sp.Matrix(A))"
   ]
  },
  {
   "cell_type": "markdown",
   "metadata": {},
   "source": [
    "## Idempotent matrix"
   ]
  },
  {
   "cell_type": "markdown",
   "metadata": {},
   "source": [
    "## $A^K = A$"
   ]
  },
  {
   "cell_type": "code",
   "execution_count": 11,
   "metadata": {},
   "outputs": [],
   "source": [
    "idem_a = np.array([[2, -2, -4],\n",
    "                  [-1, 3, 4],\n",
    "                  [1, -2, -3]])"
   ]
  },
  {
   "cell_type": "code",
   "execution_count": 12,
   "metadata": {},
   "outputs": [],
   "source": [
    "for _ in range(10000):\n",
    "    idem_a = idem_a  @ idem_a "
   ]
  },
  {
   "cell_type": "code",
   "execution_count": 13,
   "metadata": {},
   "outputs": [
    {
     "data": {
      "text/plain": [
       "array([[ 2, -2, -4],\n",
       "       [-1,  3,  4],\n",
       "       [ 1, -2, -3]])"
      ]
     },
     "execution_count": 13,
     "metadata": {},
     "output_type": "execute_result"
    }
   ],
   "source": [
    "idem_a"
   ]
  },
  {
   "cell_type": "markdown",
   "metadata": {},
   "source": [
    "## Nilpotent"
   ]
  },
  {
   "cell_type": "markdown",
   "metadata": {},
   "source": [
    "## $A^K = 0 \\to \\text{we say its a k degree nilpotent}$"
   ]
  },
  {
   "cell_type": "code",
   "execution_count": 14,
   "metadata": {},
   "outputs": [],
   "source": [
    "nil_potent = np.zeros((3, 3))\n",
    "nil_potent[0, 1] = 1\n",
    "nil_potent[1, -1] = 1"
   ]
  },
  {
   "cell_type": "code",
   "execution_count": 15,
   "metadata": {},
   "outputs": [
    {
     "data": {
      "text/plain": [
       "array([[0., 1., 0.],\n",
       "       [0., 0., 1.],\n",
       "       [0., 0., 0.]])"
      ]
     },
     "execution_count": 15,
     "metadata": {},
     "output_type": "execute_result"
    }
   ],
   "source": [
    "nil_potent"
   ]
  },
  {
   "cell_type": "code",
   "execution_count": 16,
   "metadata": {},
   "outputs": [],
   "source": [
    "degree = 0\n",
    "while np.any(nil_potent != 0):\n",
    "    degree += 1\n",
    "    nil_potent = nil_potent @ nil_potent"
   ]
  },
  {
   "cell_type": "code",
   "execution_count": 17,
   "metadata": {},
   "outputs": [
    {
     "data": {
      "text/plain": [
       "2"
      ]
     },
     "execution_count": 17,
     "metadata": {},
     "output_type": "execute_result"
    }
   ],
   "source": [
    "degree"
   ]
  },
  {
   "cell_type": "markdown",
   "metadata": {},
   "source": [
    "## Normal Inverses"
   ]
  },
  {
   "cell_type": "code",
   "execution_count": 18,
   "metadata": {},
   "outputs": [
    {
     "data": {
      "text/plain": [
       "array([[ 3,  6, 15,  5, 16],\n",
       "       [ 7, 25, 15,  7, 25],\n",
       "       [15, 25, 11, 17, 11],\n",
       "       [24,  8, 12, 11,  2],\n",
       "       [11,  3, 11,  2, 22]])"
      ]
     },
     "execution_count": 18,
     "metadata": {},
     "output_type": "execute_result"
    }
   ],
   "source": [
    "mat_1  = np.random.randint(1, 26, (5, 5)) #[)\n",
    "mat_1"
   ]
  },
  {
   "cell_type": "code",
   "execution_count": 19,
   "metadata": {},
   "outputs": [
    {
     "data": {
      "text/latex": [
       "$\\displaystyle \\left[\\begin{matrix}3 & 6 & 15 & 5 & 16\\\\7 & 25 & 15 & 7 & 25\\\\15 & 25 & 11 & 17 & 11\\\\24 & 8 & 12 & 11 & 2\\\\11 & 3 & 11 & 2 & 22\\end{matrix}\\right]$"
      ],
      "text/plain": [
       "Matrix([\n",
       "[ 3,  6, 15,  5, 16],\n",
       "[ 7, 25, 15,  7, 25],\n",
       "[15, 25, 11, 17, 11],\n",
       "[24,  8, 12, 11,  2],\n",
       "[11,  3, 11,  2, 22]])"
      ]
     },
     "execution_count": 19,
     "metadata": {},
     "output_type": "execute_result"
    }
   ],
   "source": [
    "mat_1sp = sp.Matrix(mat_1)\n",
    "mat_1sp"
   ]
  },
  {
   "cell_type": "code",
   "execution_count": 20,
   "metadata": {},
   "outputs": [
    {
     "data": {
      "text/latex": [
       "$\\displaystyle \\left[\\begin{matrix}-0.0591302293997815 & 0.0192627911782941 & -0.0227672640311771 & 0.0446340527294736 & 0.0284402586283251\\\\-0.0389654866995365 & 0.0766791650674618 & -0.028708925039119 & 0.0217235983584778 & -0.0464172891263913\\\\0.0909391514865224 & 0.0420994360957751 & -0.0732086445631956 & 0.060074990404771 & -0.0828348734905966\\\\0.0610787989725724 & -0.138531487112869 & 0.143349768238316 & -0.0790587818487792 & 0.0485134776062118\\\\-0.0161436036727584 & -0.0285435918632458 & 0.0388710105990375 & -0.0481296684479348 & 0.074571167075079\\end{matrix}\\right]$"
      ],
      "text/plain": [
       "Matrix([\n",
       "[-0.0591302293997815,  0.0192627911782941, -0.0227672640311771,  0.0446340527294736,  0.0284402586283251],\n",
       "[-0.0389654866995365,  0.0766791650674618,  -0.028708925039119,  0.0217235983584778, -0.0464172891263913],\n",
       "[ 0.0909391514865224,  0.0420994360957751, -0.0732086445631956,   0.060074990404771, -0.0828348734905966],\n",
       "[ 0.0610787989725724,  -0.138531487112869,   0.143349768238316, -0.0790587818487792,  0.0485134776062118],\n",
       "[-0.0161436036727584, -0.0285435918632458,  0.0388710105990375, -0.0481296684479348,   0.074571167075079]])"
      ]
     },
     "execution_count": 20,
     "metadata": {},
     "output_type": "execute_result"
    }
   ],
   "source": [
    "mat_2 = sp.Matrix(np.linalg.inv(mat_1))\n",
    "mat_2"
   ]
  },
  {
   "cell_type": "code",
   "execution_count": 21,
   "metadata": {},
   "outputs": [
    {
     "data": {
      "text/latex": [
       "$\\displaystyle \\left[\\begin{matrix}- \\frac{10014}{169355} & \\frac{13049}{677420} & - \\frac{15423}{677420} & \\frac{7559}{169355} & \\frac{9633}{338710}\\\\- \\frac{6599}{169355} & \\frac{12986}{169355} & - \\frac{4862}{169355} & \\frac{3679}{169355} & - \\frac{7861}{169355}\\\\\\frac{15401}{169355} & \\frac{28519}{677420} & - \\frac{49593}{677420} & \\frac{10174}{169355} & - \\frac{28057}{338710}\\\\\\frac{10344}{169355} & - \\frac{23461}{169355} & \\frac{24277}{169355} & - \\frac{13389}{169355} & \\frac{8216}{169355}\\\\- \\frac{2734}{169355} & - \\frac{4834}{169355} & \\frac{6583}{169355} & - \\frac{8151}{169355} & \\frac{12629}{169355}\\end{matrix}\\right]$"
      ],
      "text/plain": [
       "Matrix([\n",
       "[-10014/169355,  13049/677420, -15423/677420,   7559/169355,   9633/338710],\n",
       "[ -6599/169355,  12986/169355,  -4862/169355,   3679/169355,  -7861/169355],\n",
       "[ 15401/169355,  28519/677420, -49593/677420,  10174/169355, -28057/338710],\n",
       "[ 10344/169355, -23461/169355,  24277/169355, -13389/169355,   8216/169355],\n",
       "[ -2734/169355,  -4834/169355,   6583/169355,  -8151/169355,  12629/169355]])"
      ]
     },
     "execution_count": 21,
     "metadata": {},
     "output_type": "execute_result"
    }
   ],
   "source": [
    "mat_1sp.inv()"
   ]
  },
  {
   "cell_type": "code",
   "execution_count": 22,
   "metadata": {},
   "outputs": [
    {
     "data": {
      "text/latex": [
       "$\\displaystyle \\operatorname{PurePoly}{\\left( \\lambda^{5} - 72 \\lambda^{4} + 514 \\lambda^{3} + 7502 \\lambda^{2} - 40745 \\lambda - 677420, \\lambda, domain=\\mathbb{Z} \\right)}$"
      ],
      "text/plain": [
       "PurePoly(lambda**5 - 72*lambda**4 + 514*lambda**3 + 7502*lambda**2 - 40745*lambda - 677420, lambda, domain='ZZ')"
      ]
     },
     "execution_count": 22,
     "metadata": {},
     "output_type": "execute_result"
    }
   ],
   "source": [
    "mat_1sp.charpoly()"
   ]
  },
  {
   "cell_type": "code",
   "execution_count": 23,
   "metadata": {},
   "outputs": [
    {
     "data": {
      "text/latex": [
       "$\\displaystyle \\lambda^{2} - 5 \\lambda - 2$"
      ],
      "text/plain": [
       "lambda**2 - 5*lambda - 2"
      ]
     },
     "execution_count": 23,
     "metadata": {},
     "output_type": "execute_result"
    }
   ],
   "source": [
    "sp.Matrix([[1, 2],[3,4]]).charpoly().as_expr()"
   ]
  },
  {
   "cell_type": "markdown",
   "metadata": {},
   "source": [
    "<a href=\"https://www.emathhelp.net/calculators/linear-algebra/reduced-row-echelon-form-rref-caclulator/\" style=\" background-color: black;\n",
    "  color: grey;\n",
    "  border: 2px dashed grey;\n",
    "  padding: 10px 20px;\n",
    "  text-align: center;\n",
    "  text-decoration: none;\n",
    "  display: inline-block;\">Step by step RREF(emathhelp)</a>"
   ]
  },
  {
   "cell_type": "code",
   "execution_count": 24,
   "metadata": {},
   "outputs": [],
   "source": [
    "gj = np.hstack([mat_1, np.eye(5)])"
   ]
  },
  {
   "cell_type": "code",
   "execution_count": 25,
   "metadata": {},
   "outputs": [
    {
     "data": {
      "text/latex": [
       "$\\displaystyle \\left[\\begin{matrix}3.0 & 6.0 & 15.0 & 5.0 & 16.0 & 1.0 & 0.0 & 0.0 & 0.0 & 0.0\\\\7.0 & 25.0 & 15.0 & 7.0 & 25.0 & 0.0 & 1.0 & 0.0 & 0.0 & 0.0\\\\15.0 & 25.0 & 11.0 & 17.0 & 11.0 & 0.0 & 0.0 & 1.0 & 0.0 & 0.0\\\\24.0 & 8.0 & 12.0 & 11.0 & 2.0 & 0.0 & 0.0 & 0.0 & 1.0 & 0.0\\\\11.0 & 3.0 & 11.0 & 2.0 & 22.0 & 0.0 & 0.0 & 0.0 & 0.0 & 1.0\\end{matrix}\\right]$"
      ],
      "text/plain": [
       "Matrix([\n",
       "[ 3.0,  6.0, 15.0,  5.0, 16.0, 1.0, 0.0, 0.0, 0.0, 0.0],\n",
       "[ 7.0, 25.0, 15.0,  7.0, 25.0, 0.0, 1.0, 0.0, 0.0, 0.0],\n",
       "[15.0, 25.0, 11.0, 17.0, 11.0, 0.0, 0.0, 1.0, 0.0, 0.0],\n",
       "[24.0,  8.0, 12.0, 11.0,  2.0, 0.0, 0.0, 0.0, 1.0, 0.0],\n",
       "[11.0,  3.0, 11.0,  2.0, 22.0, 0.0, 0.0, 0.0, 0.0, 1.0]])"
      ]
     },
     "execution_count": 25,
     "metadata": {},
     "output_type": "execute_result"
    }
   ],
   "source": [
    "gj_sp = sp.Matrix(gj)\n",
    "gj_sp"
   ]
  },
  {
   "cell_type": "code",
   "execution_count": 26,
   "metadata": {},
   "outputs": [
    {
     "data": {
      "text/latex": [
       "$\\displaystyle \\left[\\begin{matrix}1 & 0 & 0 & 0 & 0 & -0.0591302293997815 & 0.0192627911782941 & -0.0227672640311771 & 0.0446340527294736 & 0.0284402586283251\\\\0 & 1 & 0 & 0 & 0 & -0.0389654866995365 & 0.0766791650674618 & -0.028708925039119 & 0.0217235983584778 & -0.0464172891263913\\\\0 & 0 & 1 & 0 & 0 & 0.0909391514865224 & 0.0420994360957751 & -0.0732086445631957 & 0.060074990404771 & -0.0828348734905967\\\\0 & 0 & 0 & 1 & 0 & 0.0610787989725724 & -0.138531487112869 & 0.143349768238316 & -0.0790587818487792 & 0.0485134776062118\\\\0 & 0 & 0 & 0 & 1 & -0.0161436036727584 & -0.0285435918632458 & 0.0388710105990375 & -0.0481296684479348 & 0.074571167075079\\end{matrix}\\right]$"
      ],
      "text/plain": [
       "Matrix([\n",
       "[1, 0, 0, 0, 0, -0.0591302293997815,  0.0192627911782941, -0.0227672640311771,  0.0446340527294736,  0.0284402586283251],\n",
       "[0, 1, 0, 0, 0, -0.0389654866995365,  0.0766791650674618,  -0.028708925039119,  0.0217235983584778, -0.0464172891263913],\n",
       "[0, 0, 1, 0, 0,  0.0909391514865224,  0.0420994360957751, -0.0732086445631957,   0.060074990404771, -0.0828348734905967],\n",
       "[0, 0, 0, 1, 0,  0.0610787989725724,  -0.138531487112869,   0.143349768238316, -0.0790587818487792,  0.0485134776062118],\n",
       "[0, 0, 0, 0, 1, -0.0161436036727584, -0.0285435918632458,  0.0388710105990375, -0.0481296684479348,   0.074571167075079]])"
      ]
     },
     "execution_count": 26,
     "metadata": {},
     "output_type": "execute_result"
    }
   ],
   "source": [
    "gj_sp.rref()[0]"
   ]
  },
  {
   "cell_type": "code",
   "execution_count": 27,
   "metadata": {},
   "outputs": [],
   "source": [
    "arr_1 = sp.matrix2numpy(gj_sp.rref()[0]).astype(np.float64)"
   ]
  },
  {
   "cell_type": "code",
   "execution_count": 28,
   "metadata": {},
   "outputs": [],
   "source": [
    "inv_arr = arr_1[:, 5:]"
   ]
  },
  {
   "cell_type": "code",
   "execution_count": 30,
   "metadata": {},
   "outputs": [
    {
     "data": {
      "text/latex": [
       "$\\displaystyle \\left[\\begin{matrix}-0.0591302293997815 & 0.0192627911782941 & -0.0227672640311771 & 0.0446340527294736 & 0.0284402586283251\\\\-0.0389654866995365 & 0.0766791650674618 & -0.028708925039119 & 0.0217235983584778 & -0.0464172891263913\\\\0.0909391514865224 & 0.0420994360957751 & -0.0732086445631957 & 0.060074990404771 & -0.0828348734905967\\\\0.0610787989725724 & -0.138531487112869 & 0.143349768238316 & -0.0790587818487792 & 0.0485134776062118\\\\-0.0161436036727584 & -0.0285435918632458 & 0.0388710105990375 & -0.0481296684479348 & 0.074571167075079\\end{matrix}\\right]$"
      ],
      "text/plain": [
       "Matrix([\n",
       "[-0.0591302293997815,  0.0192627911782941, -0.0227672640311771,  0.0446340527294736,  0.0284402586283251],\n",
       "[-0.0389654866995365,  0.0766791650674618,  -0.028708925039119,  0.0217235983584778, -0.0464172891263913],\n",
       "[ 0.0909391514865224,  0.0420994360957751, -0.0732086445631957,   0.060074990404771, -0.0828348734905967],\n",
       "[ 0.0610787989725724,  -0.138531487112869,   0.143349768238316, -0.0790587818487792,  0.0485134776062118],\n",
       "[-0.0161436036727584, -0.0285435918632458,  0.0388710105990375, -0.0481296684479348,   0.074571167075079]])"
      ]
     },
     "execution_count": 30,
     "metadata": {},
     "output_type": "execute_result"
    }
   ],
   "source": [
    "sp.Matrix(inv_arr)"
   ]
  }
 ],
 "metadata": {
  "kernelspec": {
   "display_name": "Python 3",
   "language": "python",
   "name": "python3"
  },
  "language_info": {
   "codemirror_mode": {
    "name": "ipython",
    "version": 3
   },
   "file_extension": ".py",
   "mimetype": "text/x-python",
   "name": "python",
   "nbconvert_exporter": "python",
   "pygments_lexer": "ipython3",
   "version": "3.7.0"
  }
 },
 "nbformat": 4,
 "nbformat_minor": 2
}
