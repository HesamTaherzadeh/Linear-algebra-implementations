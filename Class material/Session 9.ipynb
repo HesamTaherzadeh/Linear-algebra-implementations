{
 "cells": [
  {
   "cell_type": "code",
   "execution_count": 15,
   "metadata": {},
   "outputs": [],
   "source": [
    "import sympy as sp\n",
    "import numpy as np\n",
    "from scipy import linalg"
   ]
  },
  {
   "cell_type": "markdown",
   "metadata": {},
   "source": [
    "## Linearization"
   ]
  },
  {
   "cell_type": "code",
   "execution_count": 2,
   "metadata": {},
   "outputs": [],
   "source": [
    "lx , ly, alpha, theta = sp.symbols(\"lambda_x lambda_y alpha theta \")"
   ]
  },
  {
   "cell_type": "code",
   "execution_count": 3,
   "metadata": {},
   "outputs": [],
   "source": [
    "l1 = lx * sp.cos(alpha)\n",
    "l2 = lx * sp.sin(alpha + theta)\n",
    "l3 = ly * sp.cos(alpha + theta)\n",
    "l4 = -ly * sp.sin(alpha)"
   ]
  },
  {
   "cell_type": "code",
   "execution_count": 4,
   "metadata": {},
   "outputs": [],
   "source": [
    "L = sp.Matrix([[l1, l2, l3, l4]]).T"
   ]
  },
  {
   "cell_type": "code",
   "execution_count": 5,
   "metadata": {},
   "outputs": [
    {
     "data": {
      "text/latex": [
       "$\\displaystyle \\left[\\begin{matrix}\\lambda_{x} \\cos{\\left(\\alpha \\right)}\\\\\\lambda_{x} \\sin{\\left(\\alpha + \\theta \\right)}\\\\\\lambda_{y} \\cos{\\left(\\alpha + \\theta \\right)}\\\\- \\lambda_{y} \\sin{\\left(\\alpha \\right)}\\end{matrix}\\right]$"
      ],
      "text/plain": [
       "Matrix([\n",
       "[        lambda_x*cos(alpha)],\n",
       "[lambda_x*sin(alpha + theta)],\n",
       "[lambda_y*cos(alpha + theta)],\n",
       "[       -lambda_y*sin(alpha)]])"
      ]
     },
     "execution_count": 5,
     "metadata": {},
     "output_type": "execute_result"
    }
   ],
   "source": [
    "L"
   ]
  },
  {
   "cell_type": "code",
   "execution_count": 6,
   "metadata": {},
   "outputs": [
    {
     "data": {
      "text/latex": [
       "$\\displaystyle \\left[\\begin{matrix}\\cos{\\left(\\alpha \\right)} & 0 & - \\lambda_{x} \\sin{\\left(\\alpha \\right)} & 0\\\\\\sin{\\left(\\alpha + \\theta \\right)} & 0 & \\lambda_{x} \\cos{\\left(\\alpha + \\theta \\right)} & \\lambda_{x} \\cos{\\left(\\alpha + \\theta \\right)}\\\\0 & \\cos{\\left(\\alpha + \\theta \\right)} & - \\lambda_{y} \\sin{\\left(\\alpha + \\theta \\right)} & - \\lambda_{y} \\sin{\\left(\\alpha + \\theta \\right)}\\\\0 & - \\sin{\\left(\\alpha \\right)} & - \\lambda_{y} \\cos{\\left(\\alpha \\right)} & 0\\end{matrix}\\right]$"
      ],
      "text/plain": [
       "Matrix([\n",
       "[        cos(alpha),                  0,         -lambda_x*sin(alpha),                            0],\n",
       "[sin(alpha + theta),                  0,  lambda_x*cos(alpha + theta),  lambda_x*cos(alpha + theta)],\n",
       "[                 0, cos(alpha + theta), -lambda_y*sin(alpha + theta), -lambda_y*sin(alpha + theta)],\n",
       "[                 0,        -sin(alpha),         -lambda_y*cos(alpha),                            0]])"
      ]
     },
     "execution_count": 6,
     "metadata": {},
     "output_type": "execute_result"
    }
   ],
   "source": [
    "L.jacobian((lx , ly, alpha, theta))"
   ]
  },
  {
   "cell_type": "markdown",
   "metadata": {},
   "source": [
    "### Problem:\n",
    "#### In triangle below , A, B and C have been observed, find the coordinates of B. AC is known"
   ]
  },
  {
   "cell_type": "markdown",
   "metadata": {},
   "source": [
    "![q1.png](q1.png)"
   ]
  },
  {
   "cell_type": "markdown",
   "metadata": {},
   "source": [
    "* $l_1 = 59^\\circ 59' 58''$ \n",
    "* $l_2 = 59^\\circ 59' 51''$ \n",
    "* $l_3 = 59^\\circ 59' 54''$ \n",
    "* $AC = 1000 m$ "
   ]
  },
  {
   "cell_type": "markdown",
   "metadata": {},
   "source": [
    "## $l_1 = Tan^{-1}(\\frac{y_B}{ x_B})$\n",
    "## $l_3 = Tan^{-1}(\\frac{y_B}{1000- x_B})$\n",
    "## $l_2 = \\pi - (Tan^{-1}(\\frac{y_B}{ x_B}) + Tan^{-1}(\\frac{y_B}{1000- x_B}))$"
   ]
  },
  {
   "cell_type": "code",
   "execution_count": 7,
   "metadata": {},
   "outputs": [],
   "source": [
    "xb, yb, xc = sp.symbols(\"x_b y_b x_c\")\n",
    "L = sp.Matrix([[sp.atan(yb/ xb),\n",
    "                sp.pi - (sp.atan(yb/ xb) +sp.atan(yb/(xc-xb))) \n",
    "                ,sp.atan(yb/(1000-xb))]]).T\n",
    "var = sp.Matrix([xb, yb, xc])\n",
    "l = sp.Matrix([[(59 + 59/60 + 58/3600) * sp.pi / 180],\n",
    "              [(59 + 59/60 + 51/3600) * sp.pi / 180],\n",
    "              [(59 + 59/60 + 54/3600) * sp.pi / 180]])\n",
    "x = sp.Matrix([[1000/2, 500 * sp.tan(60 * sp.pi/180), 1000]]).T"
   ]
  },
  {
   "cell_type": "markdown",
   "metadata": {},
   "source": [
    "### $x_{estimated} = (A^TA)^{-1}A^Tl$"
   ]
  },
  {
   "cell_type": "code",
   "execution_count": 8,
   "metadata": {},
   "outputs": [
    {
     "name": "stdout",
     "output_type": "stream",
     "text": [
      "after 2 iteration the answer is = \n",
      "\n",
      "\n"
     ]
    },
    {
     "data": {
      "text/latex": [
       "$\\displaystyle \\left[\\begin{matrix}499.988803707628\\\\-0.03878509448861 + 500 \\sqrt{3}\\\\999.90483151484\\end{matrix}\\right]$"
      ],
      "text/plain": [
       "Matrix([\n",
       "[               499.988803707628],\n",
       "[-0.03878509448861 + 500*sqrt(3)],\n",
       "[                999.90483151484]])"
      ]
     },
     "metadata": {},
     "output_type": "display_data"
    }
   ],
   "source": [
    "for i in range(100):\n",
    "    A1 = L.jacobian(var)\n",
    "    A1 =( A1.subs(((xb,x[0] ),(yb, x[1]), (xc, x[2])))).evalf()\n",
    "    w1 = (l - L.subs(((xb,x[0] ),(yb, x[1]), (xc, x[2])), dtype = float)).evalf()\n",
    "    deltacap = (((A1.T * A1)).evalf().inv() * A1.T * w1).evalf()\n",
    "    if np.all(abs(sp.matrix2numpy(deltacap)) < 0.00001):\n",
    "        print(f\"after {i+1} iteration the answer is = \\n\\n\")\n",
    "        display(x)\n",
    "        break\n",
    "    x = x + deltacap"
   ]
  },
  {
   "cell_type": "code",
   "execution_count": 9,
   "metadata": {},
   "outputs": [
    {
     "data": {
      "text/latex": [
       "$\\displaystyle \\left[\\begin{matrix}3.79982676508883 \\cdot 10^{-10}\\\\3.65064722192732 \\cdot 10^{-9}\\\\8.14231913059351 \\cdot 10^{-10}\\end{matrix}\\right]$"
      ],
      "text/plain": [
       "Matrix([\n",
       "[3.79982676508883e-10],\n",
       "[ 3.65064722192732e-9],\n",
       "[8.14231913059351e-10]])"
      ]
     },
     "execution_count": 9,
     "metadata": {},
     "output_type": "execute_result"
    }
   ],
   "source": [
    "# residual (سمت چپ معادله - سمت راست معادله)\n",
    "w1"
   ]
  },
  {
   "cell_type": "code",
   "execution_count": 10,
   "metadata": {},
   "outputs": [
    {
     "data": {
      "text/latex": [
       "$\\displaystyle \\left[\\begin{matrix}2.50700580650041 \\cdot 10^{-7}\\\\1.19413922884159 \\cdot 10^{-6}\\\\5.59372776316701 \\cdot 10^{-6}\\end{matrix}\\right]$"
      ],
      "text/plain": [
       "Matrix([\n",
       "[2.50700580650041e-7],\n",
       "[1.19413922884159e-6],\n",
       "[5.59372776316701e-6]])"
      ]
     },
     "execution_count": 10,
     "metadata": {},
     "output_type": "execute_result"
    }
   ],
   "source": [
    "# adjustment(تصحیحات همگرا شده است)\n",
    "deltacap"
   ]
  },
  {
   "cell_type": "markdown",
   "metadata": {},
   "source": [
    "<img src=\"https://www.cs.utexas.edu/users/flame/laff/alaff-beta/images/Chapter04/FundamentalSpaces.png\">"
   ]
  },
  {
   "cell_type": "markdown",
   "metadata": {},
   "source": [
    "## Null space(Kernel) and left nullspace"
   ]
  },
  {
   "cell_type": "code",
   "execution_count": 11,
   "metadata": {},
   "outputs": [],
   "source": [
    "A = np.array([[1, 3, -5, 1, 5],\n",
    "             [1, 4, -7, 3, -2],\n",
    "             [1, 5, -9, 5, -9],\n",
    "             [1, 3, -6, 2, -1]])"
   ]
  },
  {
   "cell_type": "code",
   "execution_count": 12,
   "metadata": {},
   "outputs": [
    {
     "data": {
      "text/plain": [
       "3"
      ]
     },
     "execution_count": 12,
     "metadata": {},
     "output_type": "execute_result"
    }
   ],
   "source": [
    "np.linalg.matrix_rank(A) # rank of matrix "
   ]
  },
  {
   "cell_type": "code",
   "execution_count": 16,
   "metadata": {},
   "outputs": [],
   "source": [
    "Kernel = linalg.null_space(A)"
   ]
  },
  {
   "cell_type": "code",
   "execution_count": 17,
   "metadata": {},
   "outputs": [
    {
     "data": {
      "text/plain": [
       "array([[ 0.36742309, -0.8771249 ],\n",
       "       [ 0.67486077,  0.18355756],\n",
       "       [ 0.22682793, -0.18256971],\n",
       "       [-0.58300499, -0.40283879],\n",
       "       [-0.13497215, -0.03671151]])"
      ]
     },
     "execution_count": 17,
     "metadata": {},
     "output_type": "execute_result"
    }
   ],
   "source": [
    "Kernel # basis for nullspace(AX=0) | nullity : (dim = n - r) =>(5 - 3) = 2\n",
    "#(2, n)"
   ]
  },
  {
   "cell_type": "code",
   "execution_count": 20,
   "metadata": {},
   "outputs": [
    {
     "data": {
      "text/plain": [
       "array([[ 5.82867088e-16, -1.16573418e-15],\n",
       "       [ 8.32667268e-16, -6.10622664e-16],\n",
       "       [ 6.38378239e-16, -2.77555756e-16],\n",
       "       [ 1.08246745e-15, -1.11022302e-16]])"
      ]
     },
     "execution_count": 20,
     "metadata": {},
     "output_type": "execute_result"
    }
   ],
   "source": [
    "Ax = A @ Kernel * np.sign(Kernel[0, 0]) # sign ambiguity\n",
    "Ax # zero(the difference is because of error)"
   ]
  },
  {
   "cell_type": "code",
   "execution_count": 22,
   "metadata": {},
   "outputs": [
    {
     "data": {
      "text/plain": [
       "array([[-4.08248290e-01],\n",
       "       [ 8.16496581e-01],\n",
       "       [-4.08248290e-01],\n",
       "       [ 3.44169138e-15]])"
      ]
     },
     "execution_count": 22,
     "metadata": {},
     "output_type": "execute_result"
    }
   ],
   "source": [
    "# left kernel \n",
    "left_kernel = linalg.null_space(A.T)\n",
    "left_kernel # basis for left kernel(A^TX=0)| dim(left kernel) = m - r\n",
    "# m - r = 4 - 3 = 1 ==> (4, m)"
   ]
  }
 ],
 "metadata": {
  "kernelspec": {
   "display_name": "Python 3",
   "language": "python",
   "name": "python3"
  },
  "language_info": {
   "codemirror_mode": {
    "name": "ipython",
    "version": 3
   },
   "file_extension": ".py",
   "mimetype": "text/x-python",
   "name": "python",
   "nbconvert_exporter": "python",
   "pygments_lexer": "ipython3",
   "version": "3.7.0"
  }
 },
 "nbformat": 4,
 "nbformat_minor": 2
}
